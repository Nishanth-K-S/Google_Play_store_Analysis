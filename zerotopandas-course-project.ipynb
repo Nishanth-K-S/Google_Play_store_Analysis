{
 "cells": [
  {
   "cell_type": "markdown",
   "metadata": {},
   "source": [
    "# Project Title: Google Playstore Analysis\n",
    "<img src=\"google_img.png\" />"
   ]
  },
  {
   "cell_type": "markdown",
   "metadata": {},
   "source": [
    "## Introduction:\n",
    "The dataset is chosen from Kaggle. It is the web scraped data of 10k Play Store apps for analyzing the Android market. It consists of in total of 10841 rows and 13 columns. It has 13 different features such as 'Category', 'Rating', 'Reviews', 'Size' etc.\n",
    "Here there are mixture of all kind of data string, float and int type of data.\n",
    "\n",
    "This project is a part of zerotopandas course from Jovian.com[the course](http://zerotopandas.com).\n"
   ]
  },
  {
   "cell_type": "code",
   "execution_count": 1,
   "metadata": {},
   "outputs": [],
   "source": [
    "project_name = \"Google_appstore_analysis\" "
   ]
  },
  {
   "cell_type": "code",
   "execution_count": 2,
   "metadata": {},
   "outputs": [],
   "source": [
    "!pip install jovian --upgrade -q"
   ]
  },
  {
   "cell_type": "code",
   "execution_count": 3,
   "metadata": {},
   "outputs": [],
   "source": [
    "import jovian"
   ]
  },
  {
   "cell_type": "code",
   "execution_count": 5,
   "metadata": {},
   "outputs": [
    {
     "data": {
      "application/javascript": [
       "window.require && require([\"base/js/namespace\"],function(Jupyter){Jupyter.notebook.save_checkpoint()})"
      ],
      "text/plain": [
       "<IPython.core.display.Javascript object>"
      ]
     },
     "metadata": {},
     "output_type": "display_data"
    },
    {
     "name": "stdout",
     "output_type": "stream",
     "text": [
      "[jovian] Attempting to save notebook..\n",
      "[jovian] Updating notebook \"nishanth-k-s/google-appstore-analysis\" on https://jovian.ml/\n",
      "[jovian] Uploading notebook..\n",
      "[jovian] Capturing environment..\n",
      "[jovian] Uploading additional files...\n",
      "[jovian] Committed successfully! https://jovian.ml/nishanth-k-s/google-appstore-analysis\n"
     ]
    },
    {
     "data": {
      "text/plain": [
       "'https://jovian.ml/nishanth-k-s/google-appstore-analysis'"
      ]
     },
     "execution_count": 5,
     "metadata": {},
     "output_type": "execute_result"
    }
   ],
   "source": [
    "jovian.commit(project=project_name,files=['googleplaystore.csv'])"
   ]
  },
  {
   "cell_type": "markdown",
   "metadata": {},
   "source": [
    "## Data Preparation and Cleaning\n",
    "\n",
    "TODO"
   ]
  },
  {
   "cell_type": "markdown",
   "metadata": {},
   "source": [
    "Import the required libraries, such as:\n",
    "- pandas:working on tabular data \n",
    "- numpy: For working with arrays. \n",
    "- seaborn and matlotlib.pyplot:Visualization."
   ]
  },
  {
   "cell_type": "code",
   "execution_count": 6,
   "metadata": {},
   "outputs": [],
   "source": [
    "import pandas as pd\n",
    "import numpy as np\n",
    "import seaborn as sns\n",
    "import matplotlib.pyplot as plt\n",
    "%matplotlib inline"
   ]
  },
  {
   "cell_type": "markdown",
   "metadata": {},
   "source": [
    "`%matplotlib` inline to ensure that plots are shown and embedded within the Jupyter notebook itself. Without this command, sometimes plots may show up in pop-up windows."
   ]
  },
  {
   "cell_type": "markdown",
   "metadata": {},
   "source": [
    "read the datasata set using pd.read_csv() function."
   ]
  },
  {
   "cell_type": "code",
   "execution_count": 7,
   "metadata": {},
   "outputs": [],
   "source": [
    "google_df = pd.read_csv('googleplaystore.csv')"
   ]
  },
  {
   "cell_type": "code",
   "execution_count": 8,
   "metadata": {},
   "outputs": [
    {
     "data": {
      "text/html": [
       "<div>\n",
       "<style scoped>\n",
       "    .dataframe tbody tr th:only-of-type {\n",
       "        vertical-align: middle;\n",
       "    }\n",
       "\n",
       "    .dataframe tbody tr th {\n",
       "        vertical-align: top;\n",
       "    }\n",
       "\n",
       "    .dataframe thead th {\n",
       "        text-align: right;\n",
       "    }\n",
       "</style>\n",
       "<table border=\"1\" class=\"dataframe\">\n",
       "  <thead>\n",
       "    <tr style=\"text-align: right;\">\n",
       "      <th></th>\n",
       "      <th>App</th>\n",
       "      <th>Category</th>\n",
       "      <th>Rating</th>\n",
       "      <th>Reviews</th>\n",
       "      <th>Size</th>\n",
       "      <th>Installs</th>\n",
       "      <th>Type</th>\n",
       "      <th>Price</th>\n",
       "      <th>Content Rating</th>\n",
       "      <th>Genres</th>\n",
       "      <th>Last Updated</th>\n",
       "      <th>Current Ver</th>\n",
       "      <th>Android Ver</th>\n",
       "    </tr>\n",
       "  </thead>\n",
       "  <tbody>\n",
       "    <tr>\n",
       "      <th>0</th>\n",
       "      <td>Photo Editor &amp; Candy Camera &amp; Grid &amp; ScrapBook</td>\n",
       "      <td>ART_AND_DESIGN</td>\n",
       "      <td>4.1</td>\n",
       "      <td>159</td>\n",
       "      <td>19M</td>\n",
       "      <td>10,000+</td>\n",
       "      <td>Free</td>\n",
       "      <td>0</td>\n",
       "      <td>Everyone</td>\n",
       "      <td>Art &amp; Design</td>\n",
       "      <td>January 7, 2018</td>\n",
       "      <td>1.0.0</td>\n",
       "      <td>4.0.3 and up</td>\n",
       "    </tr>\n",
       "    <tr>\n",
       "      <th>1</th>\n",
       "      <td>Coloring book moana</td>\n",
       "      <td>ART_AND_DESIGN</td>\n",
       "      <td>3.9</td>\n",
       "      <td>967</td>\n",
       "      <td>14M</td>\n",
       "      <td>500,000+</td>\n",
       "      <td>Free</td>\n",
       "      <td>0</td>\n",
       "      <td>Everyone</td>\n",
       "      <td>Art &amp; Design;Pretend Play</td>\n",
       "      <td>January 15, 2018</td>\n",
       "      <td>2.0.0</td>\n",
       "      <td>4.0.3 and up</td>\n",
       "    </tr>\n",
       "    <tr>\n",
       "      <th>2</th>\n",
       "      <td>U Launcher Lite – FREE Live Cool Themes, Hide ...</td>\n",
       "      <td>ART_AND_DESIGN</td>\n",
       "      <td>4.7</td>\n",
       "      <td>87510</td>\n",
       "      <td>8.7M</td>\n",
       "      <td>5,000,000+</td>\n",
       "      <td>Free</td>\n",
       "      <td>0</td>\n",
       "      <td>Everyone</td>\n",
       "      <td>Art &amp; Design</td>\n",
       "      <td>August 1, 2018</td>\n",
       "      <td>1.2.4</td>\n",
       "      <td>4.0.3 and up</td>\n",
       "    </tr>\n",
       "    <tr>\n",
       "      <th>3</th>\n",
       "      <td>Sketch - Draw &amp; Paint</td>\n",
       "      <td>ART_AND_DESIGN</td>\n",
       "      <td>4.5</td>\n",
       "      <td>215644</td>\n",
       "      <td>25M</td>\n",
       "      <td>50,000,000+</td>\n",
       "      <td>Free</td>\n",
       "      <td>0</td>\n",
       "      <td>Teen</td>\n",
       "      <td>Art &amp; Design</td>\n",
       "      <td>June 8, 2018</td>\n",
       "      <td>Varies with device</td>\n",
       "      <td>4.2 and up</td>\n",
       "    </tr>\n",
       "    <tr>\n",
       "      <th>4</th>\n",
       "      <td>Pixel Draw - Number Art Coloring Book</td>\n",
       "      <td>ART_AND_DESIGN</td>\n",
       "      <td>4.3</td>\n",
       "      <td>967</td>\n",
       "      <td>2.8M</td>\n",
       "      <td>100,000+</td>\n",
       "      <td>Free</td>\n",
       "      <td>0</td>\n",
       "      <td>Everyone</td>\n",
       "      <td>Art &amp; Design;Creativity</td>\n",
       "      <td>June 20, 2018</td>\n",
       "      <td>1.1</td>\n",
       "      <td>4.4 and up</td>\n",
       "    </tr>\n",
       "  </tbody>\n",
       "</table>\n",
       "</div>"
      ],
      "text/plain": [
       "                                                 App        Category  Rating  \\\n",
       "0     Photo Editor & Candy Camera & Grid & ScrapBook  ART_AND_DESIGN     4.1   \n",
       "1                                Coloring book moana  ART_AND_DESIGN     3.9   \n",
       "2  U Launcher Lite – FREE Live Cool Themes, Hide ...  ART_AND_DESIGN     4.7   \n",
       "3                              Sketch - Draw & Paint  ART_AND_DESIGN     4.5   \n",
       "4              Pixel Draw - Number Art Coloring Book  ART_AND_DESIGN     4.3   \n",
       "\n",
       "  Reviews  Size     Installs  Type Price Content Rating  \\\n",
       "0     159   19M      10,000+  Free     0       Everyone   \n",
       "1     967   14M     500,000+  Free     0       Everyone   \n",
       "2   87510  8.7M   5,000,000+  Free     0       Everyone   \n",
       "3  215644   25M  50,000,000+  Free     0           Teen   \n",
       "4     967  2.8M     100,000+  Free     0       Everyone   \n",
       "\n",
       "                      Genres      Last Updated         Current Ver  \\\n",
       "0               Art & Design   January 7, 2018               1.0.0   \n",
       "1  Art & Design;Pretend Play  January 15, 2018               2.0.0   \n",
       "2               Art & Design    August 1, 2018               1.2.4   \n",
       "3               Art & Design      June 8, 2018  Varies with device   \n",
       "4    Art & Design;Creativity     June 20, 2018                 1.1   \n",
       "\n",
       "    Android Ver  \n",
       "0  4.0.3 and up  \n",
       "1  4.0.3 and up  \n",
       "2  4.0.3 and up  \n",
       "3    4.2 and up  \n",
       "4    4.4 and up  "
      ]
     },
     "execution_count": 8,
     "metadata": {},
     "output_type": "execute_result"
    }
   ],
   "source": [
    "google_df.head()"
   ]
  },
  {
   "cell_type": "code",
   "execution_count": 9,
   "metadata": {},
   "outputs": [
    {
     "data": {
      "text/plain": [
       "pandas.core.frame.DataFrame"
      ]
     },
     "execution_count": 9,
     "metadata": {},
     "output_type": "execute_result"
    }
   ],
   "source": [
    "type(google_df)"
   ]
  },
  {
   "cell_type": "markdown",
   "metadata": {},
   "source": [
    "This dataset is a type DataFrame, which his in 2-dimensional form which stores all kinds of data in float, int,string,boolean in columns and rows.    "
   ]
  },
  {
   "cell_type": "code",
   "execution_count": 10,
   "metadata": {},
   "outputs": [
    {
     "data": {
      "text/html": [
       "<div>\n",
       "<style scoped>\n",
       "    .dataframe tbody tr th:only-of-type {\n",
       "        vertical-align: middle;\n",
       "    }\n",
       "\n",
       "    .dataframe tbody tr th {\n",
       "        vertical-align: top;\n",
       "    }\n",
       "\n",
       "    .dataframe thead th {\n",
       "        text-align: right;\n",
       "    }\n",
       "</style>\n",
       "<table border=\"1\" class=\"dataframe\">\n",
       "  <thead>\n",
       "    <tr style=\"text-align: right;\">\n",
       "      <th></th>\n",
       "      <th>App</th>\n",
       "      <th>Category</th>\n",
       "      <th>Rating</th>\n",
       "      <th>Reviews</th>\n",
       "      <th>Size</th>\n",
       "      <th>Installs</th>\n",
       "      <th>Type</th>\n",
       "      <th>Price</th>\n",
       "      <th>Content Rating</th>\n",
       "      <th>Genres</th>\n",
       "      <th>Last Updated</th>\n",
       "      <th>Current Ver</th>\n",
       "      <th>Android Ver</th>\n",
       "    </tr>\n",
       "  </thead>\n",
       "  <tbody>\n",
       "    <tr>\n",
       "      <th>901</th>\n",
       "      <td>Harkins Theatres</td>\n",
       "      <td>ENTERTAINMENT</td>\n",
       "      <td>4.3</td>\n",
       "      <td>1511</td>\n",
       "      <td>12M</td>\n",
       "      <td>100,000+</td>\n",
       "      <td>Free</td>\n",
       "      <td>0</td>\n",
       "      <td>Everyone</td>\n",
       "      <td>Entertainment</td>\n",
       "      <td>June 11, 2018</td>\n",
       "      <td>2.1.1</td>\n",
       "      <td>4.1 and up</td>\n",
       "    </tr>\n",
       "    <tr>\n",
       "      <th>9722</th>\n",
       "      <td>EP Search and Find</td>\n",
       "      <td>FAMILY</td>\n",
       "      <td>NaN</td>\n",
       "      <td>20</td>\n",
       "      <td>23M</td>\n",
       "      <td>500+</td>\n",
       "      <td>Free</td>\n",
       "      <td>0</td>\n",
       "      <td>Everyone</td>\n",
       "      <td>Casual</td>\n",
       "      <td>May 27, 2015</td>\n",
       "      <td>1.0.0</td>\n",
       "      <td>2.3 and up</td>\n",
       "    </tr>\n",
       "    <tr>\n",
       "      <th>1632</th>\n",
       "      <td>Fashion in Vogue</td>\n",
       "      <td>LIFESTYLE</td>\n",
       "      <td>3.8</td>\n",
       "      <td>1797</td>\n",
       "      <td>6.8M</td>\n",
       "      <td>100,000+</td>\n",
       "      <td>Free</td>\n",
       "      <td>0</td>\n",
       "      <td>Everyone</td>\n",
       "      <td>Lifestyle</td>\n",
       "      <td>September 27, 2016</td>\n",
       "      <td>2.0</td>\n",
       "      <td>4.3 and up</td>\n",
       "    </tr>\n",
       "    <tr>\n",
       "      <th>861</th>\n",
       "      <td>TV+</td>\n",
       "      <td>ENTERTAINMENT</td>\n",
       "      <td>4.2</td>\n",
       "      <td>98509</td>\n",
       "      <td>Varies with device</td>\n",
       "      <td>5,000,000+</td>\n",
       "      <td>Free</td>\n",
       "      <td>0</td>\n",
       "      <td>Everyone</td>\n",
       "      <td>Entertainment</td>\n",
       "      <td>June 28, 2018</td>\n",
       "      <td>Varies with device</td>\n",
       "      <td>Varies with device</td>\n",
       "    </tr>\n",
       "    <tr>\n",
       "      <th>4815</th>\n",
       "      <td>Zapya - File Transfer, Sharing</td>\n",
       "      <td>TOOLS</td>\n",
       "      <td>4.6</td>\n",
       "      <td>387958</td>\n",
       "      <td>9.0M</td>\n",
       "      <td>10,000,000+</td>\n",
       "      <td>Free</td>\n",
       "      <td>0</td>\n",
       "      <td>Teen</td>\n",
       "      <td>Tools</td>\n",
       "      <td>July 16, 2018</td>\n",
       "      <td>5.6.2 (US)</td>\n",
       "      <td>4.0.3 and up</td>\n",
       "    </tr>\n",
       "    <tr>\n",
       "      <th>2895</th>\n",
       "      <td>HD Camera for Android</td>\n",
       "      <td>PHOTOGRAPHY</td>\n",
       "      <td>4.1</td>\n",
       "      <td>351254</td>\n",
       "      <td>4.0M</td>\n",
       "      <td>10,000,000+</td>\n",
       "      <td>Free</td>\n",
       "      <td>0</td>\n",
       "      <td>Everyone</td>\n",
       "      <td>Photography</td>\n",
       "      <td>June 29, 2018</td>\n",
       "      <td>4.6.0.0</td>\n",
       "      <td>4.2 and up</td>\n",
       "    </tr>\n",
       "    <tr>\n",
       "      <th>8140</th>\n",
       "      <td>CZ-27 pistol explained</td>\n",
       "      <td>BOOKS_AND_REFERENCE</td>\n",
       "      <td>NaN</td>\n",
       "      <td>1</td>\n",
       "      <td>11M</td>\n",
       "      <td>10+</td>\n",
       "      <td>Paid</td>\n",
       "      <td>$5.99</td>\n",
       "      <td>Everyone</td>\n",
       "      <td>Books &amp; Reference</td>\n",
       "      <td>September 2, 2015</td>\n",
       "      <td>Android 3.0 - 2015</td>\n",
       "      <td>1.6 and up</td>\n",
       "    </tr>\n",
       "    <tr>\n",
       "      <th>7792</th>\n",
       "      <td>Jetting for Honda CR dirt bike</td>\n",
       "      <td>SPORTS</td>\n",
       "      <td>4.1</td>\n",
       "      <td>7</td>\n",
       "      <td>3.4M</td>\n",
       "      <td>100+</td>\n",
       "      <td>Paid</td>\n",
       "      <td>$3.49</td>\n",
       "      <td>Everyone</td>\n",
       "      <td>Sports</td>\n",
       "      <td>April 13, 2016</td>\n",
       "      <td>2.2</td>\n",
       "      <td>3.0 and up</td>\n",
       "    </tr>\n",
       "    <tr>\n",
       "      <th>8212</th>\n",
       "      <td>Scale Models DB</td>\n",
       "      <td>TOOLS</td>\n",
       "      <td>4.4</td>\n",
       "      <td>9</td>\n",
       "      <td>33M</td>\n",
       "      <td>50+</td>\n",
       "      <td>Paid</td>\n",
       "      <td>$2.99</td>\n",
       "      <td>Everyone</td>\n",
       "      <td>Tools</td>\n",
       "      <td>May 3, 2018</td>\n",
       "      <td>0.6.2</td>\n",
       "      <td>4.3 and up</td>\n",
       "    </tr>\n",
       "    <tr>\n",
       "      <th>7884</th>\n",
       "      <td>Simpli CT</td>\n",
       "      <td>TOOLS</td>\n",
       "      <td>NaN</td>\n",
       "      <td>4</td>\n",
       "      <td>11M</td>\n",
       "      <td>100+</td>\n",
       "      <td>Free</td>\n",
       "      <td>0</td>\n",
       "      <td>Everyone</td>\n",
       "      <td>Tools</td>\n",
       "      <td>November 30, 2017</td>\n",
       "      <td>1.0.2</td>\n",
       "      <td>4.3 and up</td>\n",
       "    </tr>\n",
       "  </tbody>\n",
       "</table>\n",
       "</div>"
      ],
      "text/plain": [
       "                                 App             Category  Rating Reviews  \\\n",
       "901                 Harkins Theatres        ENTERTAINMENT     4.3    1511   \n",
       "9722              EP Search and Find               FAMILY     NaN      20   \n",
       "1632                Fashion in Vogue            LIFESTYLE     3.8    1797   \n",
       "861                              TV+        ENTERTAINMENT     4.2   98509   \n",
       "4815  Zapya - File Transfer, Sharing                TOOLS     4.6  387958   \n",
       "2895           HD Camera for Android          PHOTOGRAPHY     4.1  351254   \n",
       "8140          CZ-27 pistol explained  BOOKS_AND_REFERENCE     NaN       1   \n",
       "7792  Jetting for Honda CR dirt bike               SPORTS     4.1       7   \n",
       "8212                 Scale Models DB                TOOLS     4.4       9   \n",
       "7884                       Simpli CT                TOOLS     NaN       4   \n",
       "\n",
       "                    Size     Installs  Type  Price Content Rating  \\\n",
       "901                  12M     100,000+  Free      0       Everyone   \n",
       "9722                 23M         500+  Free      0       Everyone   \n",
       "1632                6.8M     100,000+  Free      0       Everyone   \n",
       "861   Varies with device   5,000,000+  Free      0       Everyone   \n",
       "4815                9.0M  10,000,000+  Free      0           Teen   \n",
       "2895                4.0M  10,000,000+  Free      0       Everyone   \n",
       "8140                 11M          10+  Paid  $5.99       Everyone   \n",
       "7792                3.4M         100+  Paid  $3.49       Everyone   \n",
       "8212                 33M          50+  Paid  $2.99       Everyone   \n",
       "7884                 11M         100+  Free      0       Everyone   \n",
       "\n",
       "                 Genres        Last Updated         Current Ver  \\\n",
       "901       Entertainment       June 11, 2018               2.1.1   \n",
       "9722             Casual        May 27, 2015               1.0.0   \n",
       "1632          Lifestyle  September 27, 2016                 2.0   \n",
       "861       Entertainment       June 28, 2018  Varies with device   \n",
       "4815              Tools       July 16, 2018          5.6.2 (US)   \n",
       "2895        Photography       June 29, 2018             4.6.0.0   \n",
       "8140  Books & Reference   September 2, 2015  Android 3.0 - 2015   \n",
       "7792             Sports      April 13, 2016                 2.2   \n",
       "8212              Tools         May 3, 2018               0.6.2   \n",
       "7884              Tools   November 30, 2017               1.0.2   \n",
       "\n",
       "             Android Ver  \n",
       "901           4.1 and up  \n",
       "9722          2.3 and up  \n",
       "1632          4.3 and up  \n",
       "861   Varies with device  \n",
       "4815        4.0.3 and up  \n",
       "2895          4.2 and up  \n",
       "8140          1.6 and up  \n",
       "7792          3.0 and up  \n",
       "8212          4.3 and up  \n",
       "7884          4.3 and up  "
      ]
     },
     "execution_count": 10,
     "metadata": {},
     "output_type": "execute_result"
    }
   ],
   "source": [
    "google_df.sample(10)"
   ]
  },
  {
   "cell_type": "markdown",
   "metadata": {},
   "source": [
    "we can view the random sample using the sample() function."
   ]
  },
  {
   "cell_type": "code",
   "execution_count": 11,
   "metadata": {},
   "outputs": [
    {
     "data": {
      "text/plain": [
       "(10841, 13)"
      ]
     },
     "execution_count": 11,
     "metadata": {},
     "output_type": "execute_result"
    }
   ],
   "source": [
    "google_df.shape"
   ]
  },
  {
   "cell_type": "code",
   "execution_count": 12,
   "metadata": {},
   "outputs": [
    {
     "data": {
      "text/plain": [
       "Index(['App', 'Category', 'Rating', 'Reviews', 'Size', 'Installs', 'Type',\n",
       "       'Price', 'Content Rating', 'Genres', 'Last Updated', 'Current Ver',\n",
       "       'Android Ver'],\n",
       "      dtype='object')"
      ]
     },
     "execution_count": 12,
     "metadata": {},
     "output_type": "execute_result"
    }
   ],
   "source": [
    "google_df.columns"
   ]
  },
  {
   "cell_type": "markdown",
   "metadata": {},
   "source": [
    "above we can see all the column names in the dataframe."
   ]
  },
  {
   "cell_type": "code",
   "execution_count": 13,
   "metadata": {},
   "outputs": [
    {
     "name": "stdout",
     "output_type": "stream",
     "text": [
      "<class 'pandas.core.frame.DataFrame'>\n",
      "RangeIndex: 10841 entries, 0 to 10840\n",
      "Data columns (total 13 columns):\n",
      " #   Column          Non-Null Count  Dtype  \n",
      "---  ------          --------------  -----  \n",
      " 0   App             10841 non-null  object \n",
      " 1   Category        10841 non-null  object \n",
      " 2   Rating          9367 non-null   float64\n",
      " 3   Reviews         10841 non-null  object \n",
      " 4   Size            10841 non-null  object \n",
      " 5   Installs        10841 non-null  object \n",
      " 6   Type            10840 non-null  object \n",
      " 7   Price           10841 non-null  object \n",
      " 8   Content Rating  10840 non-null  object \n",
      " 9   Genres          10841 non-null  object \n",
      " 10  Last Updated    10841 non-null  object \n",
      " 11  Current Ver     10833 non-null  object \n",
      " 12  Android Ver     10838 non-null  object \n",
      "dtypes: float64(1), object(12)\n",
      "memory usage: 1.1+ MB\n"
     ]
    }
   ],
   "source": [
    "google_df.info()"
   ]
  },
  {
   "cell_type": "markdown",
   "metadata": {},
   "source": [
    "From the info() we get to know that few columns contains some null values. "
   ]
  },
  {
   "cell_type": "code",
   "execution_count": 14,
   "metadata": {},
   "outputs": [
    {
     "data": {
      "text/html": [
       "<div>\n",
       "<style scoped>\n",
       "    .dataframe tbody tr th:only-of-type {\n",
       "        vertical-align: middle;\n",
       "    }\n",
       "\n",
       "    .dataframe tbody tr th {\n",
       "        vertical-align: top;\n",
       "    }\n",
       "\n",
       "    .dataframe thead th {\n",
       "        text-align: right;\n",
       "    }\n",
       "</style>\n",
       "<table border=\"1\" class=\"dataframe\">\n",
       "  <thead>\n",
       "    <tr style=\"text-align: right;\">\n",
       "      <th></th>\n",
       "      <th>Rating</th>\n",
       "    </tr>\n",
       "  </thead>\n",
       "  <tbody>\n",
       "    <tr>\n",
       "      <th>count</th>\n",
       "      <td>9367.000000</td>\n",
       "    </tr>\n",
       "    <tr>\n",
       "      <th>mean</th>\n",
       "      <td>4.193338</td>\n",
       "    </tr>\n",
       "    <tr>\n",
       "      <th>std</th>\n",
       "      <td>0.537431</td>\n",
       "    </tr>\n",
       "    <tr>\n",
       "      <th>min</th>\n",
       "      <td>1.000000</td>\n",
       "    </tr>\n",
       "    <tr>\n",
       "      <th>25%</th>\n",
       "      <td>4.000000</td>\n",
       "    </tr>\n",
       "    <tr>\n",
       "      <th>50%</th>\n",
       "      <td>4.300000</td>\n",
       "    </tr>\n",
       "    <tr>\n",
       "      <th>75%</th>\n",
       "      <td>4.500000</td>\n",
       "    </tr>\n",
       "    <tr>\n",
       "      <th>max</th>\n",
       "      <td>19.000000</td>\n",
       "    </tr>\n",
       "  </tbody>\n",
       "</table>\n",
       "</div>"
      ],
      "text/plain": [
       "            Rating\n",
       "count  9367.000000\n",
       "mean      4.193338\n",
       "std       0.537431\n",
       "min       1.000000\n",
       "25%       4.000000\n",
       "50%       4.300000\n",
       "75%       4.500000\n",
       "max      19.000000"
      ]
     },
     "execution_count": 14,
     "metadata": {},
     "output_type": "execute_result"
    }
   ],
   "source": [
    "google_df.describe()"
   ]
  },
  {
   "cell_type": "markdown",
   "metadata": {},
   "source": [
    "only Rating is of type float so its statstical information is displayed.<br>\n",
    "Type object contains the mixture of either string, float or int data type."
   ]
  },
  {
   "cell_type": "code",
   "execution_count": 15,
   "metadata": {},
   "outputs": [
    {
     "data": {
      "text/plain": [
       "App                  0\n",
       "Category             0\n",
       "Rating            1474\n",
       "Reviews              0\n",
       "Size                 0\n",
       "Installs             0\n",
       "Type                 1\n",
       "Price                0\n",
       "Content Rating       1\n",
       "Genres               0\n",
       "Last Updated         0\n",
       "Current Ver          8\n",
       "Android Ver          3\n",
       "dtype: int64"
      ]
     },
     "execution_count": 15,
     "metadata": {},
     "output_type": "execute_result"
    }
   ],
   "source": [
    "google_df.isnull().sum()"
   ]
  },
  {
   "cell_type": "markdown",
   "metadata": {},
   "source": [
    "we found how many null values present in each column, here we can see that Rating has more null values "
   ]
  },
  {
   "cell_type": "code",
   "execution_count": 16,
   "metadata": {},
   "outputs": [],
   "source": [
    "google_df.drop(google_df.index[google_df.Rating.isnull()], inplace=True)"
   ]
  },
  {
   "cell_type": "markdown",
   "metadata": {},
   "source": [
    "Dropped all the rows where there are no values found in Rating column."
   ]
  },
  {
   "cell_type": "code",
   "execution_count": 17,
   "metadata": {},
   "outputs": [
    {
     "data": {
      "text/plain": [
       "(9367, 13)"
      ]
     },
     "execution_count": 17,
     "metadata": {},
     "output_type": "execute_result"
    }
   ],
   "source": [
    "google_df.shape"
   ]
  },
  {
   "cell_type": "code",
   "execution_count": 18,
   "metadata": {},
   "outputs": [
    {
     "data": {
      "text/html": [
       "<div>\n",
       "<style scoped>\n",
       "    .dataframe tbody tr th:only-of-type {\n",
       "        vertical-align: middle;\n",
       "    }\n",
       "\n",
       "    .dataframe tbody tr th {\n",
       "        vertical-align: top;\n",
       "    }\n",
       "\n",
       "    .dataframe thead th {\n",
       "        text-align: right;\n",
       "    }\n",
       "</style>\n",
       "<table border=\"1\" class=\"dataframe\">\n",
       "  <thead>\n",
       "    <tr style=\"text-align: right;\">\n",
       "      <th></th>\n",
       "      <th>App</th>\n",
       "      <th>Category</th>\n",
       "      <th>Rating</th>\n",
       "      <th>Reviews</th>\n",
       "      <th>Size</th>\n",
       "      <th>Installs</th>\n",
       "      <th>Type</th>\n",
       "      <th>Price</th>\n",
       "      <th>Content Rating</th>\n",
       "      <th>Genres</th>\n",
       "      <th>Last Updated</th>\n",
       "      <th>Current Ver</th>\n",
       "      <th>Android Ver</th>\n",
       "    </tr>\n",
       "  </thead>\n",
       "  <tbody>\n",
       "    <tr>\n",
       "      <th>10472</th>\n",
       "      <td>Life Made WI-Fi Touchscreen Photo Frame</td>\n",
       "      <td>1.9</td>\n",
       "      <td>19.0</td>\n",
       "      <td>3.0M</td>\n",
       "      <td>1,000+</td>\n",
       "      <td>Free</td>\n",
       "      <td>0</td>\n",
       "      <td>Everyone</td>\n",
       "      <td>NaN</td>\n",
       "      <td>February 11, 2018</td>\n",
       "      <td>1.0.19</td>\n",
       "      <td>4.0 and up</td>\n",
       "      <td>NaN</td>\n",
       "    </tr>\n",
       "  </tbody>\n",
       "</table>\n",
       "</div>"
      ],
      "text/plain": [
       "                                           App Category  Rating Reviews  \\\n",
       "10472  Life Made WI-Fi Touchscreen Photo Frame      1.9    19.0    3.0M   \n",
       "\n",
       "         Size Installs Type     Price Content Rating             Genres  \\\n",
       "10472  1,000+     Free    0  Everyone            NaN  February 11, 2018   \n",
       "\n",
       "      Last Updated Current Ver Android Ver  \n",
       "10472       1.0.19  4.0 and up         NaN  "
      ]
     },
     "execution_count": 18,
     "metadata": {},
     "output_type": "execute_result"
    }
   ],
   "source": [
    "google_df[google_df.Rating>5]"
   ]
  },
  {
   "cell_type": "markdown",
   "metadata": {},
   "source": [
    "Check if there any row which has rating greater than 5. Google playstore has a maximum rating of 5 and minimum rating of 1.<br> it is found index 10472 has rating 19.0, so let us drop this row from our analysis. "
   ]
  },
  {
   "cell_type": "code",
   "execution_count": 19,
   "metadata": {},
   "outputs": [
    {
     "data": {
      "text/plain": [
       "0"
      ]
     },
     "execution_count": 19,
     "metadata": {},
     "output_type": "execute_result"
    }
   ],
   "source": [
    "len(google_df[google_df.Rating<1])"
   ]
  },
  {
   "cell_type": "markdown",
   "metadata": {},
   "source": [
    "Also checked for the rating less than 1, it's good to see row has that value."
   ]
  },
  {
   "cell_type": "code",
   "execution_count": 20,
   "metadata": {},
   "outputs": [],
   "source": [
    "google_df.drop([10472],inplace=True)"
   ]
  },
  {
   "cell_type": "markdown",
   "metadata": {},
   "source": [
    "Dropped the 10472th row using drop function."
   ]
  },
  {
   "cell_type": "code",
   "execution_count": 21,
   "metadata": {},
   "outputs": [
    {
     "data": {
      "text/plain": [
       "(9366, 13)"
      ]
     },
     "execution_count": 21,
     "metadata": {},
     "output_type": "execute_result"
    }
   ],
   "source": [
    "google_df.shape"
   ]
  },
  {
   "cell_type": "markdown",
   "metadata": {},
   "source": [
    "After dropping some rows from the dataframe we have 9366 columns."
   ]
  },
  {
   "cell_type": "code",
   "execution_count": 22,
   "metadata": {},
   "outputs": [
    {
     "data": {
      "text/plain": [
       "App               0\n",
       "Category          0\n",
       "Rating            0\n",
       "Reviews           0\n",
       "Size              0\n",
       "Installs          0\n",
       "Type              0\n",
       "Price             0\n",
       "Content Rating    0\n",
       "Genres            0\n",
       "Last Updated      0\n",
       "Current Ver       4\n",
       "Android Ver       2\n",
       "dtype: int64"
      ]
     },
     "execution_count": 22,
     "metadata": {},
     "output_type": "execute_result"
    }
   ],
   "source": [
    "google_df.isnull().sum()"
   ]
  },
  {
   "cell_type": "markdown",
   "metadata": {},
   "source": [
    "As we have seen Price have '$', Installs has '+' and Size has 'M' along with values which make the type object. In order to covert to numberic data type, first we need to remove these character's."
   ]
  },
  {
   "cell_type": "code",
   "execution_count": 23,
   "metadata": {},
   "outputs": [],
   "source": [
    "google_df['Price']= google_df['Price'].map(lambda x: x.lstrip('$').rstrip() )"
   ]
  },
  {
   "cell_type": "code",
   "execution_count": 24,
   "metadata": {},
   "outputs": [
    {
     "data": {
      "text/plain": [
       "280      0\n",
       "3817     0\n",
       "4118     0\n",
       "2199     0\n",
       "10277    0\n",
       "Name: Price, dtype: object"
      ]
     },
     "execution_count": 24,
     "metadata": {},
     "output_type": "execute_result"
    }
   ],
   "source": [
    "google_df['Price'].sample(5)"
   ]
  },
  {
   "cell_type": "code",
   "execution_count": 25,
   "metadata": {},
   "outputs": [],
   "source": [
    "google_df['Installs'] =google_df['Installs'].map(lambda x: x.rstrip('+'))\n",
    "google_df['Installs'] = google_df['Installs'].map(lambda x: ''.join(x.split(',')))"
   ]
  },
  {
   "cell_type": "code",
   "execution_count": 26,
   "metadata": {},
   "outputs": [
    {
     "data": {
      "text/plain": [
       "2882     5000000\n",
       "2806     1000000\n",
       "7922       50000\n",
       "7883       10000\n",
       "8535    10000000\n",
       "Name: Installs, dtype: object"
      ]
     },
     "execution_count": 26,
     "metadata": {},
     "output_type": "execute_result"
    }
   ],
   "source": [
    "google_df['Installs'].sample(5)"
   ]
  },
  {
   "cell_type": "code",
   "execution_count": 27,
   "metadata": {},
   "outputs": [],
   "source": [
    "google_df['Size'] = google_df['Size'].map(lambda x: x.rstrip('M'))\n",
    "google_df['Size'] = google_df['Size'].map(lambda x: str(round((float(x.rstrip('k'))/1024), 1)) if x[-1]=='k' else x)\n",
    "google_df['Size'] = google_df['Size'].map(lambda x: np.nan if x.startswith('Varies') else x)"
   ]
  },
  {
   "cell_type": "code",
   "execution_count": 28,
   "metadata": {},
   "outputs": [
    {
     "data": {
      "text/plain": [
       "7253    4.7\n",
       "6347     10\n",
       "8365     28\n",
       "2358     12\n",
       "3729    NaN\n",
       "Name: Size, dtype: object"
      ]
     },
     "execution_count": 28,
     "metadata": {},
     "output_type": "execute_result"
    }
   ],
   "source": [
    "google_df['Size'].sample(5)"
   ]
  },
  {
   "cell_type": "markdown",
   "metadata": {},
   "source": [
    "Now let us convet the Prize, installs, Size and Reviews to numerical values."
   ]
  },
  {
   "cell_type": "code",
   "execution_count": 29,
   "metadata": {},
   "outputs": [],
   "source": [
    "google_df['Reviews'] = pd.to_numeric(google_df['Reviews'], errors='coerce')\n",
    "google_df['Price'] = pd.to_numeric(google_df['Price'], errors='coerce')\n",
    "google_df['Size'] = pd.to_numeric(google_df['Size'], errors='coerce')\n",
    "google_df['Installs'] = pd.to_numeric(google_df['Installs'], errors='coerce')"
   ]
  },
  {
   "cell_type": "code",
   "execution_count": 30,
   "metadata": {},
   "outputs": [
    {
     "data": {
      "text/html": [
       "<div>\n",
       "<style scoped>\n",
       "    .dataframe tbody tr th:only-of-type {\n",
       "        vertical-align: middle;\n",
       "    }\n",
       "\n",
       "    .dataframe tbody tr th {\n",
       "        vertical-align: top;\n",
       "    }\n",
       "\n",
       "    .dataframe thead th {\n",
       "        text-align: right;\n",
       "    }\n",
       "</style>\n",
       "<table border=\"1\" class=\"dataframe\">\n",
       "  <thead>\n",
       "    <tr style=\"text-align: right;\">\n",
       "      <th></th>\n",
       "      <th>App</th>\n",
       "      <th>Category</th>\n",
       "      <th>Rating</th>\n",
       "      <th>Reviews</th>\n",
       "      <th>Size</th>\n",
       "      <th>Installs</th>\n",
       "      <th>Type</th>\n",
       "      <th>Price</th>\n",
       "      <th>Content Rating</th>\n",
       "      <th>Genres</th>\n",
       "      <th>Last Updated</th>\n",
       "      <th>Current Ver</th>\n",
       "      <th>Android Ver</th>\n",
       "    </tr>\n",
       "  </thead>\n",
       "  <tbody>\n",
       "    <tr>\n",
       "      <th>4630</th>\n",
       "      <td>Hollywood U: Rising Stars</td>\n",
       "      <td>FAMILY</td>\n",
       "      <td>4.2</td>\n",
       "      <td>233588</td>\n",
       "      <td>74.0</td>\n",
       "      <td>5000000</td>\n",
       "      <td>Free</td>\n",
       "      <td>0.0</td>\n",
       "      <td>Teen</td>\n",
       "      <td>Simulation</td>\n",
       "      <td>April 21, 2017</td>\n",
       "      <td>3.8.0</td>\n",
       "      <td>4.0.3 and up</td>\n",
       "    </tr>\n",
       "    <tr>\n",
       "      <th>6074</th>\n",
       "      <td>Be you GO Launcher Theme</td>\n",
       "      <td>PERSONALIZATION</td>\n",
       "      <td>4.3</td>\n",
       "      <td>1580</td>\n",
       "      <td>3.6</td>\n",
       "      <td>100000</td>\n",
       "      <td>Free</td>\n",
       "      <td>0.0</td>\n",
       "      <td>Everyone</td>\n",
       "      <td>Personalization</td>\n",
       "      <td>November 12, 2014</td>\n",
       "      <td>v1.0</td>\n",
       "      <td>2.3 and up</td>\n",
       "    </tr>\n",
       "    <tr>\n",
       "      <th>362</th>\n",
       "      <td>TouchPal Keyboard - Fun Emoji &amp; Android Keyboard</td>\n",
       "      <td>COMMUNICATION</td>\n",
       "      <td>4.4</td>\n",
       "      <td>615381</td>\n",
       "      <td>37.0</td>\n",
       "      <td>10000000</td>\n",
       "      <td>Free</td>\n",
       "      <td>0.0</td>\n",
       "      <td>Mature 17+</td>\n",
       "      <td>Communication</td>\n",
       "      <td>August 2, 2018</td>\n",
       "      <td>6.7.9.1</td>\n",
       "      <td>4.0.3 and up</td>\n",
       "    </tr>\n",
       "    <tr>\n",
       "      <th>7013</th>\n",
       "      <td>Tattoo Color By Number Draw Book Page Pixel Art</td>\n",
       "      <td>FAMILY</td>\n",
       "      <td>4.0</td>\n",
       "      <td>309</td>\n",
       "      <td>25.0</td>\n",
       "      <td>100000</td>\n",
       "      <td>Free</td>\n",
       "      <td>0.0</td>\n",
       "      <td>Everyone</td>\n",
       "      <td>Entertainment</td>\n",
       "      <td>May 2, 2018</td>\n",
       "      <td>1.4</td>\n",
       "      <td>4.1 and up</td>\n",
       "    </tr>\n",
       "    <tr>\n",
       "      <th>6896</th>\n",
       "      <td>BW Smart</td>\n",
       "      <td>TOOLS</td>\n",
       "      <td>3.7</td>\n",
       "      <td>50</td>\n",
       "      <td>19.0</td>\n",
       "      <td>5000</td>\n",
       "      <td>Free</td>\n",
       "      <td>0.0</td>\n",
       "      <td>Everyone</td>\n",
       "      <td>Tools</td>\n",
       "      <td>June 6, 2017</td>\n",
       "      <td>v1.2.2</td>\n",
       "      <td>4.0 and up</td>\n",
       "    </tr>\n",
       "  </tbody>\n",
       "</table>\n",
       "</div>"
      ],
      "text/plain": [
       "                                                   App         Category  \\\n",
       "4630                         Hollywood U: Rising Stars           FAMILY   \n",
       "6074                          Be you GO Launcher Theme  PERSONALIZATION   \n",
       "362   TouchPal Keyboard - Fun Emoji & Android Keyboard    COMMUNICATION   \n",
       "7013   Tattoo Color By Number Draw Book Page Pixel Art           FAMILY   \n",
       "6896                                          BW Smart            TOOLS   \n",
       "\n",
       "      Rating  Reviews  Size  Installs  Type  Price Content Rating  \\\n",
       "4630     4.2   233588  74.0   5000000  Free    0.0           Teen   \n",
       "6074     4.3     1580   3.6    100000  Free    0.0       Everyone   \n",
       "362      4.4   615381  37.0  10000000  Free    0.0     Mature 17+   \n",
       "7013     4.0      309  25.0    100000  Free    0.0       Everyone   \n",
       "6896     3.7       50  19.0      5000  Free    0.0       Everyone   \n",
       "\n",
       "               Genres       Last Updated Current Ver   Android Ver  \n",
       "4630       Simulation     April 21, 2017       3.8.0  4.0.3 and up  \n",
       "6074  Personalization  November 12, 2014        v1.0    2.3 and up  \n",
       "362     Communication     August 2, 2018     6.7.9.1  4.0.3 and up  \n",
       "7013    Entertainment        May 2, 2018         1.4    4.1 and up  \n",
       "6896            Tools       June 6, 2017      v1.2.2    4.0 and up  "
      ]
     },
     "execution_count": 30,
     "metadata": {},
     "output_type": "execute_result"
    }
   ],
   "source": [
    "google_df.sample(5)"
   ]
  },
  {
   "cell_type": "code",
   "execution_count": 31,
   "metadata": {},
   "outputs": [
    {
     "data": {
      "text/html": [
       "<div>\n",
       "<style scoped>\n",
       "    .dataframe tbody tr th:only-of-type {\n",
       "        vertical-align: middle;\n",
       "    }\n",
       "\n",
       "    .dataframe tbody tr th {\n",
       "        vertical-align: top;\n",
       "    }\n",
       "\n",
       "    .dataframe thead th {\n",
       "        text-align: right;\n",
       "    }\n",
       "</style>\n",
       "<table border=\"1\" class=\"dataframe\">\n",
       "  <thead>\n",
       "    <tr style=\"text-align: right;\">\n",
       "      <th></th>\n",
       "      <th>App</th>\n",
       "      <th>Category</th>\n",
       "      <th>Rating</th>\n",
       "      <th>Reviews</th>\n",
       "      <th>Size</th>\n",
       "      <th>Installs</th>\n",
       "      <th>Type</th>\n",
       "      <th>Price</th>\n",
       "      <th>Content Rating</th>\n",
       "      <th>Genres</th>\n",
       "      <th>Last Updated</th>\n",
       "      <th>Current Ver</th>\n",
       "      <th>Android Ver</th>\n",
       "    </tr>\n",
       "  </thead>\n",
       "  <tbody>\n",
       "    <tr>\n",
       "      <th>0</th>\n",
       "      <td>Photo Editor &amp; Candy Camera &amp; Grid &amp; ScrapBook</td>\n",
       "      <td>ART_AND_DESIGN</td>\n",
       "      <td>4.1</td>\n",
       "      <td>159</td>\n",
       "      <td>19.0</td>\n",
       "      <td>10000</td>\n",
       "      <td>Free</td>\n",
       "      <td>0.0</td>\n",
       "      <td>Everyone</td>\n",
       "      <td>Art &amp; Design</td>\n",
       "      <td>January 7, 2018</td>\n",
       "      <td>1.0.0</td>\n",
       "      <td>4.0.3 and up</td>\n",
       "    </tr>\n",
       "    <tr>\n",
       "      <th>1</th>\n",
       "      <td>Coloring book moana</td>\n",
       "      <td>ART_AND_DESIGN</td>\n",
       "      <td>3.9</td>\n",
       "      <td>967</td>\n",
       "      <td>14.0</td>\n",
       "      <td>500000</td>\n",
       "      <td>Free</td>\n",
       "      <td>0.0</td>\n",
       "      <td>Everyone</td>\n",
       "      <td>Art &amp; Design;Pretend Play</td>\n",
       "      <td>January 15, 2018</td>\n",
       "      <td>2.0.0</td>\n",
       "      <td>4.0.3 and up</td>\n",
       "    </tr>\n",
       "  </tbody>\n",
       "</table>\n",
       "</div>"
      ],
      "text/plain": [
       "                                              App        Category  Rating  \\\n",
       "0  Photo Editor & Candy Camera & Grid & ScrapBook  ART_AND_DESIGN     4.1   \n",
       "1                             Coloring book moana  ART_AND_DESIGN     3.9   \n",
       "\n",
       "   Reviews  Size  Installs  Type  Price Content Rating  \\\n",
       "0      159  19.0     10000  Free    0.0       Everyone   \n",
       "1      967  14.0    500000  Free    0.0       Everyone   \n",
       "\n",
       "                      Genres      Last Updated Current Ver   Android Ver  \n",
       "0               Art & Design   January 7, 2018       1.0.0  4.0.3 and up  \n",
       "1  Art & Design;Pretend Play  January 15, 2018       2.0.0  4.0.3 and up  "
      ]
     },
     "execution_count": 31,
     "metadata": {},
     "output_type": "execute_result"
    }
   ],
   "source": [
    "google_df.head(2)"
   ]
  },
  {
   "cell_type": "code",
   "execution_count": 32,
   "metadata": {},
   "outputs": [
    {
     "data": {
      "text/html": [
       "<div>\n",
       "<style scoped>\n",
       "    .dataframe tbody tr th:only-of-type {\n",
       "        vertical-align: middle;\n",
       "    }\n",
       "\n",
       "    .dataframe tbody tr th {\n",
       "        vertical-align: top;\n",
       "    }\n",
       "\n",
       "    .dataframe thead th {\n",
       "        text-align: right;\n",
       "    }\n",
       "</style>\n",
       "<table border=\"1\" class=\"dataframe\">\n",
       "  <thead>\n",
       "    <tr style=\"text-align: right;\">\n",
       "      <th></th>\n",
       "      <th>Rating</th>\n",
       "      <th>Reviews</th>\n",
       "      <th>Size</th>\n",
       "      <th>Installs</th>\n",
       "      <th>Price</th>\n",
       "    </tr>\n",
       "  </thead>\n",
       "  <tbody>\n",
       "    <tr>\n",
       "      <th>count</th>\n",
       "      <td>9366.000000</td>\n",
       "      <td>9.366000e+03</td>\n",
       "      <td>7729.000000</td>\n",
       "      <td>9.366000e+03</td>\n",
       "      <td>9366.000000</td>\n",
       "    </tr>\n",
       "    <tr>\n",
       "      <th>mean</th>\n",
       "      <td>4.191757</td>\n",
       "      <td>5.140498e+05</td>\n",
       "      <td>22.957252</td>\n",
       "      <td>1.789744e+07</td>\n",
       "      <td>0.960928</td>\n",
       "    </tr>\n",
       "    <tr>\n",
       "      <th>std</th>\n",
       "      <td>0.515219</td>\n",
       "      <td>3.144042e+06</td>\n",
       "      <td>23.445831</td>\n",
       "      <td>9.123822e+07</td>\n",
       "      <td>15.816585</td>\n",
       "    </tr>\n",
       "    <tr>\n",
       "      <th>min</th>\n",
       "      <td>1.000000</td>\n",
       "      <td>1.000000e+00</td>\n",
       "      <td>0.000000</td>\n",
       "      <td>1.000000e+00</td>\n",
       "      <td>0.000000</td>\n",
       "    </tr>\n",
       "    <tr>\n",
       "      <th>25%</th>\n",
       "      <td>4.000000</td>\n",
       "      <td>1.862500e+02</td>\n",
       "      <td>5.300000</td>\n",
       "      <td>1.000000e+04</td>\n",
       "      <td>0.000000</td>\n",
       "    </tr>\n",
       "    <tr>\n",
       "      <th>50%</th>\n",
       "      <td>4.300000</td>\n",
       "      <td>5.930500e+03</td>\n",
       "      <td>14.000000</td>\n",
       "      <td>5.000000e+05</td>\n",
       "      <td>0.000000</td>\n",
       "    </tr>\n",
       "    <tr>\n",
       "      <th>75%</th>\n",
       "      <td>4.500000</td>\n",
       "      <td>8.153275e+04</td>\n",
       "      <td>33.000000</td>\n",
       "      <td>5.000000e+06</td>\n",
       "      <td>0.000000</td>\n",
       "    </tr>\n",
       "    <tr>\n",
       "      <th>max</th>\n",
       "      <td>5.000000</td>\n",
       "      <td>7.815831e+07</td>\n",
       "      <td>100.000000</td>\n",
       "      <td>1.000000e+09</td>\n",
       "      <td>400.000000</td>\n",
       "    </tr>\n",
       "  </tbody>\n",
       "</table>\n",
       "</div>"
      ],
      "text/plain": [
       "            Rating       Reviews         Size      Installs        Price\n",
       "count  9366.000000  9.366000e+03  7729.000000  9.366000e+03  9366.000000\n",
       "mean      4.191757  5.140498e+05    22.957252  1.789744e+07     0.960928\n",
       "std       0.515219  3.144042e+06    23.445831  9.123822e+07    15.816585\n",
       "min       1.000000  1.000000e+00     0.000000  1.000000e+00     0.000000\n",
       "25%       4.000000  1.862500e+02     5.300000  1.000000e+04     0.000000\n",
       "50%       4.300000  5.930500e+03    14.000000  5.000000e+05     0.000000\n",
       "75%       4.500000  8.153275e+04    33.000000  5.000000e+06     0.000000\n",
       "max       5.000000  7.815831e+07   100.000000  1.000000e+09   400.000000"
      ]
     },
     "execution_count": 32,
     "metadata": {},
     "output_type": "execute_result"
    }
   ],
   "source": [
    "google_df.describe()"
   ]
  },
  {
   "cell_type": "code",
   "execution_count": 33,
   "metadata": {},
   "outputs": [],
   "source": [
    "import jovian"
   ]
  },
  {
   "cell_type": "code",
   "execution_count": 34,
   "metadata": {},
   "outputs": [
    {
     "data": {
      "application/javascript": [
       "window.require && require([\"base/js/namespace\"],function(Jupyter){Jupyter.notebook.save_checkpoint()})"
      ],
      "text/plain": [
       "<IPython.core.display.Javascript object>"
      ]
     },
     "metadata": {},
     "output_type": "display_data"
    },
    {
     "name": "stdout",
     "output_type": "stream",
     "text": [
      "[jovian] Attempting to save notebook..\n",
      "[jovian] Updating notebook \"nishanth-k-s/google-appstore-analysis\" on https://jovian.ml/\n",
      "[jovian] Uploading notebook..\n",
      "[jovian] Capturing environment..\n",
      "[jovian] Committed successfully! https://jovian.ml/nishanth-k-s/google-appstore-analysis\n"
     ]
    },
    {
     "data": {
      "text/plain": [
       "'https://jovian.ml/nishanth-k-s/google-appstore-analysis'"
      ]
     },
     "execution_count": 34,
     "metadata": {},
     "output_type": "execute_result"
    }
   ],
   "source": [
    "jovian.commit()"
   ]
  },
  {
   "cell_type": "markdown",
   "metadata": {},
   "source": [
    "## Exploratory Analysis and Visualization\n",
    "\n",
    "TODO"
   ]
  },
  {
   "cell_type": "code",
   "execution_count": 35,
   "metadata": {},
   "outputs": [
    {
     "data": {
      "text/plain": [
       "dtype('float64')"
      ]
     },
     "execution_count": 35,
     "metadata": {},
     "output_type": "execute_result"
    }
   ],
   "source": [
    "google_df['Rating'].dtype"
   ]
  },
  {
   "cell_type": "code",
   "execution_count": 36,
   "metadata": {},
   "outputs": [
    {
     "data": {
      "text/plain": [
       "dtype('int64')"
      ]
     },
     "execution_count": 36,
     "metadata": {},
     "output_type": "execute_result"
    }
   ],
   "source": [
    "google_df['Reviews'].dtype"
   ]
  },
  {
   "cell_type": "code",
   "execution_count": 37,
   "metadata": {},
   "outputs": [
    {
     "data": {
      "text/plain": [
       "dtype('float64')"
      ]
     },
     "execution_count": 37,
     "metadata": {},
     "output_type": "execute_result"
    }
   ],
   "source": [
    "google_df['Price'].dtype"
   ]
  },
  {
   "cell_type": "code",
   "execution_count": 38,
   "metadata": {},
   "outputs": [],
   "source": [
    "apps_rating  = google_df.groupby('Category').Rating.agg(['mean','min','max'])"
   ]
  },
  {
   "cell_type": "code",
   "execution_count": 39,
   "metadata": {},
   "outputs": [],
   "source": [
    "apps_review= google_df.groupby('Category').Reviews.agg(['mean','min','max'])"
   ]
  },
  {
   "cell_type": "code",
   "execution_count": 40,
   "metadata": {},
   "outputs": [],
   "source": [
    "apps_price = google_df.groupby('Category').Price.sum()"
   ]
  },
  {
   "cell_type": "code",
   "execution_count": 41,
   "metadata": {},
   "outputs": [
    {
     "data": {
      "image/png": "[encoded data removed]",
      "text/plain": [
       "<Figure size 1152x360 with 1 Axes>"
      ]
     },
     "metadata": {
      "needs_background": "light"
     },
     "output_type": "display_data"
    }
   ],
   "source": [
    "plt.figure(figsize=(16,5))\n",
    "plt.plot(apps_rating)\n",
    "plt.xticks(rotation=90)\n",
    "plt.legend(apps_rating);"
   ]
  },
  {
   "cell_type": "code",
   "execution_count": 42,
   "metadata": {},
   "outputs": [
    {
     "data": {
      "image/png": "[encoded data removed]",
      "text/plain": [
       "<Figure size 1152x360 with 1 Axes>"
      ]
     },
     "metadata": {
      "needs_background": "light"
     },
     "output_type": "display_data"
    }
   ],
   "source": [
    "plt.figure(figsize=(16,5))\n",
    "plt.plot(apps_review)\n",
    "plt.xticks(rotation=90)\n",
    "plt.legend(apps_review);"
   ]
  },
  {
   "cell_type": "code",
   "execution_count": 43,
   "metadata": {},
   "outputs": [
    {
     "data": {
      "image/png": "[encoded data removed]",
      "text/plain": [
       "<Figure size 1152x360 with 1 Axes>"
      ]
     },
     "metadata": {
      "needs_background": "light"
     },
     "output_type": "display_data"
    }
   ],
   "source": [
    "plt.figure(figsize=(16,5))\n",
    "plt.plot(apps_price)\n",
    "plt.xticks(rotation=90)\n",
    "plt.legend(apps_price);"
   ]
  },
  {
   "cell_type": "code",
   "execution_count": 44,
   "metadata": {},
   "outputs": [
    {
     "data": {
      "image/png": "[encoded data removed]",
      "text/plain": [
       "<Figure size 720x360 with 1 Axes>"
      ]
     },
     "metadata": {
      "needs_background": "light"
     },
     "output_type": "display_data"
    }
   ],
   "source": [
    "#histogram\n",
    "plt.figure(figsize=(10,5))\n",
    "sns.distplot(google_df['Rating'],color='g');\n",
    "plt.title(\"Rating Distrubition\")\n",
    "plt.show()"
   ]
  },
  {
   "cell_type": "code",
   "execution_count": 45,
   "metadata": {},
   "outputs": [
    {
     "data": {
      "image/png": "[encoded data removed]",
      "text/plain": [
       "<Figure size 720x360 with 1 Axes>"
      ]
     },
     "metadata": {
      "needs_background": "light"
     },
     "output_type": "display_data"
    }
   ],
   "source": [
    "#histogram\n",
    "plt.figure(figsize=(10,5))\n",
    "sns.countplot(google_df['Type'])\n",
    "plt.title(\"Type Distrubition\")\n",
    "plt.show();"
   ]
  },
  {
   "cell_type": "code",
   "execution_count": 46,
   "metadata": {},
   "outputs": [
    {
     "data": {
      "image/png": "[encoded data removed]",
      "text/plain": [
       "<Figure size 576x432 with 1 Axes>"
      ]
     },
     "metadata": {
      "needs_background": "light"
     },
     "output_type": "display_data"
    }
   ],
   "source": [
    "#histogram\n",
    "plt.figure(figsize=(8,6))\n",
    "sns.barplot(x=google_df['Installs'],y=google_df.Reviews,color='b',palette=sns.color_palette(\"ch:2.5,-.2,dark=.3\"))\n",
    "plt.title(\"Installs Distrubition\")\n",
    "plt.xticks(rotation=80)\n",
    "plt.show();"
   ]
  },
  {
   "cell_type": "code",
   "execution_count": 47,
   "metadata": {},
   "outputs": [
    {
     "data": {
      "image/png": "[encoded data removed]",
      "text/plain": [
       "<Figure size 720x360 with 1 Axes>"
      ]
     },
     "metadata": {
      "needs_background": "light"
     },
     "output_type": "display_data"
    }
   ],
   "source": [
    "#boxplot plot installs/rates\n",
    "ax = plt.figure(figsize=(10,5))\n",
    "sns.set()\n",
    "sns.boxplot(x=\"Installs\", y=\"Rating\", data=google_df)\n",
    "plt.title(\"Installs/Rating\")\n",
    "plt.xticks(rotation=80)\n",
    "plt.show();"
   ]
  },
  {
   "cell_type": "markdown",
   "metadata": {},
   "source": [
    "As Installs increases, we can see that Rating gets higher values.\n",
    "\n",
    "This means that many downloaded applications have higher ratings."
   ]
  },
  {
   "cell_type": "code",
   "execution_count": 48,
   "metadata": {},
   "outputs": [
    {
     "data": {
      "text/html": [
       "<div>\n",
       "<style scoped>\n",
       "    .dataframe tbody tr th:only-of-type {\n",
       "        vertical-align: middle;\n",
       "    }\n",
       "\n",
       "    .dataframe tbody tr th {\n",
       "        vertical-align: top;\n",
       "    }\n",
       "\n",
       "    .dataframe thead th {\n",
       "        text-align: right;\n",
       "    }\n",
       "</style>\n",
       "<table border=\"1\" class=\"dataframe\">\n",
       "  <thead>\n",
       "    <tr style=\"text-align: right;\">\n",
       "      <th></th>\n",
       "      <th>Rating</th>\n",
       "      <th>Reviews</th>\n",
       "      <th>Size</th>\n",
       "      <th>Installs</th>\n",
       "      <th>Price</th>\n",
       "    </tr>\n",
       "  </thead>\n",
       "  <tbody>\n",
       "    <tr>\n",
       "      <th>Rating</th>\n",
       "      <td>2.654505e-01</td>\n",
       "      <td>1.103803e+05</td>\n",
       "      <td>1.069156e+00</td>\n",
       "      <td>2.414057e+06</td>\n",
       "      <td>-1.784901e-01</td>\n",
       "    </tr>\n",
       "    <tr>\n",
       "      <th>Reviews</th>\n",
       "      <td>1.103803e+05</td>\n",
       "      <td>9.885001e+12</td>\n",
       "      <td>1.050240e+07</td>\n",
       "      <td>1.840508e+14</td>\n",
       "      <td>-4.883245e+05</td>\n",
       "    </tr>\n",
       "    <tr>\n",
       "      <th>Size</th>\n",
       "      <td>1.069156e+00</td>\n",
       "      <td>1.050240e+07</td>\n",
       "      <td>5.497070e+02</td>\n",
       "      <td>1.913297e+08</td>\n",
       "      <td>-1.070834e+01</td>\n",
       "    </tr>\n",
       "    <tr>\n",
       "      <th>Installs</th>\n",
       "      <td>2.414057e+06</td>\n",
       "      <td>1.840508e+14</td>\n",
       "      <td>1.913297e+08</td>\n",
       "      <td>8.324412e+15</td>\n",
       "      <td>-1.715850e+07</td>\n",
       "    </tr>\n",
       "    <tr>\n",
       "      <th>Price</th>\n",
       "      <td>-1.784901e-01</td>\n",
       "      <td>-4.883245e+05</td>\n",
       "      <td>-1.070834e+01</td>\n",
       "      <td>-1.715850e+07</td>\n",
       "      <td>2.501643e+02</td>\n",
       "    </tr>\n",
       "  </tbody>\n",
       "</table>\n",
       "</div>"
      ],
      "text/plain": [
       "                Rating       Reviews          Size      Installs         Price\n",
       "Rating    2.654505e-01  1.103803e+05  1.069156e+00  2.414057e+06 -1.784901e-01\n",
       "Reviews   1.103803e+05  9.885001e+12  1.050240e+07  1.840508e+14 -4.883245e+05\n",
       "Size      1.069156e+00  1.050240e+07  5.497070e+02  1.913297e+08 -1.070834e+01\n",
       "Installs  2.414057e+06  1.840508e+14  1.913297e+08  8.324412e+15 -1.715850e+07\n",
       "Price    -1.784901e-01 -4.883245e+05 -1.070834e+01 -1.715850e+07  2.501643e+02"
      ]
     },
     "execution_count": 48,
     "metadata": {},
     "output_type": "execute_result"
    }
   ],
   "source": [
    "google_df.cov()"
   ]
  },
  {
   "cell_type": "code",
   "execution_count": 49,
   "metadata": {},
   "outputs": [
    {
     "data": {
      "image/png": "[encoded data removed]",
      "text/plain": [
       "<Figure size 900x900 with 30 Axes>"
      ]
     },
     "metadata": {},
     "output_type": "display_data"
    }
   ],
   "source": [
    "sns.pairplot(google_df);"
   ]
  },
  {
   "cell_type": "code",
   "execution_count": 50,
   "metadata": {},
   "outputs": [
    {
     "data": {
      "text/html": [
       "<div>\n",
       "<style scoped>\n",
       "    .dataframe tbody tr th:only-of-type {\n",
       "        vertical-align: middle;\n",
       "    }\n",
       "\n",
       "    .dataframe tbody tr th {\n",
       "        vertical-align: top;\n",
       "    }\n",
       "\n",
       "    .dataframe thead th {\n",
       "        text-align: right;\n",
       "    }\n",
       "</style>\n",
       "<table border=\"1\" class=\"dataframe\">\n",
       "  <thead>\n",
       "    <tr style=\"text-align: right;\">\n",
       "      <th></th>\n",
       "      <th>Rating</th>\n",
       "      <th>Reviews</th>\n",
       "      <th>Size</th>\n",
       "      <th>Installs</th>\n",
       "      <th>Price</th>\n",
       "    </tr>\n",
       "  </thead>\n",
       "  <tbody>\n",
       "    <tr>\n",
       "      <th>Rating</th>\n",
       "      <td>2.654505e-01</td>\n",
       "      <td>1.103803e+05</td>\n",
       "      <td>1.069156e+00</td>\n",
       "      <td>2.414057e+06</td>\n",
       "      <td>-1.784901e-01</td>\n",
       "    </tr>\n",
       "    <tr>\n",
       "      <th>Reviews</th>\n",
       "      <td>1.103803e+05</td>\n",
       "      <td>9.885001e+12</td>\n",
       "      <td>1.050240e+07</td>\n",
       "      <td>1.840508e+14</td>\n",
       "      <td>-4.883245e+05</td>\n",
       "    </tr>\n",
       "    <tr>\n",
       "      <th>Size</th>\n",
       "      <td>1.069156e+00</td>\n",
       "      <td>1.050240e+07</td>\n",
       "      <td>5.497070e+02</td>\n",
       "      <td>1.913297e+08</td>\n",
       "      <td>-1.070834e+01</td>\n",
       "    </tr>\n",
       "    <tr>\n",
       "      <th>Installs</th>\n",
       "      <td>2.414057e+06</td>\n",
       "      <td>1.840508e+14</td>\n",
       "      <td>1.913297e+08</td>\n",
       "      <td>8.324412e+15</td>\n",
       "      <td>-1.715850e+07</td>\n",
       "    </tr>\n",
       "    <tr>\n",
       "      <th>Price</th>\n",
       "      <td>-1.784901e-01</td>\n",
       "      <td>-4.883245e+05</td>\n",
       "      <td>-1.070834e+01</td>\n",
       "      <td>-1.715850e+07</td>\n",
       "      <td>2.501643e+02</td>\n",
       "    </tr>\n",
       "  </tbody>\n",
       "</table>\n",
       "</div>"
      ],
      "text/plain": [
       "                Rating       Reviews          Size      Installs         Price\n",
       "Rating    2.654505e-01  1.103803e+05  1.069156e+00  2.414057e+06 -1.784901e-01\n",
       "Reviews   1.103803e+05  9.885001e+12  1.050240e+07  1.840508e+14 -4.883245e+05\n",
       "Size      1.069156e+00  1.050240e+07  5.497070e+02  1.913297e+08 -1.070834e+01\n",
       "Installs  2.414057e+06  1.840508e+14  1.913297e+08  8.324412e+15 -1.715850e+07\n",
       "Price    -1.784901e-01 -4.883245e+05 -1.070834e+01 -1.715850e+07  2.501643e+02"
      ]
     },
     "execution_count": 50,
     "metadata": {},
     "output_type": "execute_result"
    }
   ],
   "source": [
    "google_df.cov()"
   ]
  },
  {
   "cell_type": "code",
   "execution_count": 51,
   "metadata": {},
   "outputs": [
    {
     "data": {
      "image/png": "[encoded data removed]",
      "text/plain": [
       "<Figure size 576x504 with 2 Axes>"
      ]
     },
     "metadata": {},
     "output_type": "display_data"
    }
   ],
   "source": [
    "fig,ax = plt.subplots(figsize=(8,7))\n",
    "ax = sns.heatmap(google_df[[\"Reviews\",\"Price\",\"Rating\",\"Installs\",\"Size\"]].corr(), annot=True,linewidths=.5,fmt='.1f')\n",
    "plt.show()"
   ]
  },
  {
   "cell_type": "code",
   "execution_count": 52,
   "metadata": {},
   "outputs": [],
   "source": [
    "import jovian"
   ]
  },
  {
   "cell_type": "code",
   "execution_count": 53,
   "metadata": {},
   "outputs": [
    {
     "data": {
      "application/javascript": [
       "window.require && require([\"base/js/namespace\"],function(Jupyter){Jupyter.notebook.save_checkpoint()})"
      ],
      "text/plain": [
       "<IPython.core.display.Javascript object>"
      ]
     },
     "metadata": {},
     "output_type": "display_data"
    },
    {
     "name": "stdout",
     "output_type": "stream",
     "text": [
      "[jovian] Attempting to save notebook..\n",
      "[jovian] Updating notebook \"nishanth-k-s/google-appstore-analysis\" on https://jovian.ml/\n",
      "[jovian] Uploading notebook..\n",
      "[jovian] Capturing environment..\n",
      "[jovian] Committed successfully! https://jovian.ml/nishanth-k-s/google-appstore-analysis\n"
     ]
    },
    {
     "data": {
      "text/plain": [
       "'https://jovian.ml/nishanth-k-s/google-appstore-analysis'"
      ]
     },
     "execution_count": 53,
     "metadata": {},
     "output_type": "execute_result"
    }
   ],
   "source": [
    "jovian.commit()"
   ]
  },
  {
   "cell_type": "markdown",
   "metadata": {},
   "source": [
    "## Asking and Answering Questions\n",
    "\n",
    "TODO"
   ]
  },
  {
   "cell_type": "markdown",
   "metadata": {},
   "source": [
    "### How many apps are there in each category?"
   ]
  },
  {
   "cell_type": "code",
   "execution_count": 54,
   "metadata": {},
   "outputs": [],
   "source": [
    "dif_cat=google_df.groupby('Category')"
   ]
  },
  {
   "cell_type": "code",
   "execution_count": 55,
   "metadata": {},
   "outputs": [
    {
     "data": {
      "text/plain": [
       "{'ART_AND_DESIGN': Int64Index([   0,    1,    2,    3,    4,    5,    6,    7,    8,    9,   10,\n",
       "               11,   12,   13,   14,   15,   16,   17,   18,   19,   20,   21,\n",
       "               22,   24,   25,   26,   27,   28,   29,   30,   31,   32,   33,\n",
       "               34,   35,   36,   37,   38,   39,   40,   41,   42,   43,   44,\n",
       "               45,   46,   47,   48, 3982, 4193, 4241, 4749, 4755, 4759, 4764,\n",
       "             5179, 5254, 5258, 6930, 8679, 8712, 8888],\n",
       "            dtype='int64'),\n",
       " 'AUTO_AND_VEHICLES': Int64Index([   49,    50,    51,    52,    53,    54,    55,    56,    57,\n",
       "                58,    59,    60,    61,    62,    63,    64,    65,    66,\n",
       "                67,    68,    69,    70,    71,    72,    73,    74,    75,\n",
       "                76,    77,    78,    79,    80,    81,    82,    83,    84,\n",
       "                85,    86,    87,    88,    89,    90,    91,    92,    93,\n",
       "                94,    95,    96,    97,  4120,  4216,  4376,  4622,  5015,\n",
       "              5310,  6129,  6160,  6226,  6245,  6468,  7341,  7419,  7511,\n",
       "              7801,  8289,  8866,  8934,  9951,  9959, 10130, 10137, 10345,\n",
       "             10486],\n",
       "            dtype='int64'),\n",
       " 'BEAUTY': Int64Index([   98,    99,   100,   101,   102,   103,   104,   105,   106,\n",
       "               107,   108,   109,   110,   111,   112,   114,   115,   116,\n",
       "               117,   118,   119,   120,   121,   122,   124,   125,   127,\n",
       "               128,   131,   132,   133,   135,   136,   137,   138,  5192,\n",
       "              6222,  6506,  7021,  9205, 10022, 10289],\n",
       "            dtype='int64'),\n",
       " 'BOOKS_AND_REFERENCE': Int64Index([  139,   140,   141,   142,   143,   144,   145,   146,   147,\n",
       "               148,\n",
       "             ...\n",
       "             10161, 10173, 10590, 10592, 10724, 10815, 10819, 10829, 10833,\n",
       "             10839],\n",
       "            dtype='int64', length=178),\n",
       " 'BUSINESS': Int64Index([  187,   188,   189,   190,   191,   192,   193,   194,   195,\n",
       "               196,\n",
       "             ...\n",
       "             10325, 10373, 10412, 10529, 10584, 10624, 10659, 10706, 10754,\n",
       "             10810],\n",
       "            dtype='int64', length=303),\n",
       " 'COMICS': Int64Index([  297,   298,   299,   300,   301,   302,   303,   304,   305,\n",
       "               306,   307,   308,   309,   310,   311,   312,   313,   314,\n",
       "               315,   316,   317,   318,   319,   320,   322,   323,   324,\n",
       "               325,   326,   327,   328,   329,   330,   331,   332,   333,\n",
       "               334,  4506,  4724,  4959,  5041,  5905,  5936,  6009,  6015,\n",
       "              6072,  6407,  6408,  6411,  6414,  6420,  6424,  6705,  7992,\n",
       "              8246,  8257,  8260, 10828],\n",
       "            dtype='int64'),\n",
       " 'COMMUNICATION': Int64Index([  335,   336,   337,   338,   339,   340,   341,   342,   343,\n",
       "               344,\n",
       "             ...\n",
       "             10453, 10456, 10465, 10469, 10470, 10474, 10479, 10720, 10739,\n",
       "             10790],\n",
       "            dtype='int64', length=328),\n",
       " 'DATING': Int64Index([  476,   477,   481,   482,   483,   484,   485,   486,   487,\n",
       "               488,\n",
       "             ...\n",
       "              4441,  6271,  6286,  6288,  6302,  7077,  7303, 10045, 10168,\n",
       "             10715],\n",
       "            dtype='int64', length=195),\n",
       " 'EDUCATION': Int64Index([699, 700, 701, 702, 703, 705, 706, 707, 708, 709,\n",
       "             ...\n",
       "             845, 846, 847, 848, 849, 850, 851, 852, 853, 854],\n",
       "            dtype='int64', length=155),\n",
       " 'ENTERTAINMENT': Int64Index([ 855,  856,  857,  858,  859,  860,  861,  862,  863,  864,\n",
       "             ...\n",
       "              994,  995,  996,  997,  998,  999, 1000, 1001, 1002, 1003],\n",
       "            dtype='int64', length=149),\n",
       " 'EVENTS': Int64Index([ 1004,  1005,  1006,  1007,  1008,  1009,  1010,  1011,  1012,\n",
       "              1014,  1015,  1016,  1017,  1018,  1019,  1020,  1021,  1022,\n",
       "              1023,  1026,  1027,  1028,  1029,  1030,  1031,  1035,  1036,\n",
       "              1037,  1038,  1040,  1042,  1044,  1047,  4615,  5025,  5404,\n",
       "              5987,  6576,  6913,  7302,  8997,  9282,  9498,  9659, 10767],\n",
       "            dtype='int64'),\n",
       " 'FAMILY': Int64Index([ 2014,  2015,  2016,  2017,  2018,  2019,  2020,  2021,  2022,\n",
       "              2023,\n",
       "             ...\n",
       "             10801, 10802, 10809, 10812, 10814, 10820, 10827, 10834, 10836,\n",
       "             10837],\n",
       "            dtype='int64', length=1747),\n",
       " 'FINANCE': Int64Index([ 1048,  1049,  1050,  1051,  1052,  1053,  1054,  1055,  1056,\n",
       "              1057,\n",
       "             ...\n",
       "             10323, 10341, 10424, 10467, 10540, 10628, 10643, 10665, 10718,\n",
       "             10752],\n",
       "            dtype='int64', length=323),\n",
       " 'FOOD_AND_DRINK': Int64Index([1176, 1178, 1179, 1181, 1182, 1183, 1184, 1185, 1186, 1187,\n",
       "             ...\n",
       "             8737, 8744, 8746, 8747, 8751, 8753, 8754, 9487, 9540, 9819],\n",
       "            dtype='int64', length=109),\n",
       " 'GAME': Int64Index([ 1653,  1654,  1655,  1656,  1657,  1658,  1659,  1660,  1661,\n",
       "              1662,\n",
       "             ...\n",
       "             10782, 10783, 10784, 10787, 10789, 10791, 10792, 10793, 10803,\n",
       "             10804],\n",
       "            dtype='int64', length=1097),\n",
       " 'HEALTH_AND_FITNESS': Int64Index([ 1256,  1257,  1258,  1259,  1260,  1261,  1262,  1263,  1264,\n",
       "              1265,\n",
       "             ...\n",
       "              9923,  9975, 10055, 10064, 10141, 10349, 10362, 10600, 10630,\n",
       "             10760],\n",
       "            dtype='int64', length=297),\n",
       " 'HOUSE_AND_HOME': Int64Index([1446, 1447, 1448, 1449, 1450, 1451, 1452, 1453, 1454, 1456, 1457,\n",
       "             1458, 1459, 1460, 1461, 1462, 1463, 1464, 1465, 1466, 1467, 1468,\n",
       "             1470, 1471, 1472, 1473, 1474, 1475, 1476, 1477, 1479, 1480, 1481,\n",
       "             1482, 1483, 1485, 1486, 1487, 1488, 1490, 1491, 1492, 1493, 1494,\n",
       "             1495, 1496, 1497, 1498, 1499, 1500, 1501, 1502, 1503, 1504, 1505,\n",
       "             1506, 1507, 1508, 1509, 1510, 1511, 1512, 1513, 4179, 4205, 4932,\n",
       "             5537, 5542, 5664, 5684, 7350, 8132, 8144, 8942, 9982, 9984],\n",
       "            dtype='int64'),\n",
       " 'LIBRARIES_AND_DEMO': Int64Index([ 1514,  1515,  1516,  1518,  1521,  1522,  1523,  1524,  1525,\n",
       "              1526,  1527,  1528,  1529,  1531,  1532,  1533,  1535,  1538,\n",
       "              1541,  1542,  1543,  1544,  1545,  1546,  1547,  1548,  1549,\n",
       "              1550,  1551,  1553,  1554,  1555,  1556,  1558,  1560,  1561,\n",
       "              5121,  5872,  6505,  6507,  6510,  6512,  6514,  6515,  6517,\n",
       "              6520,  6522,  6523,  6524,  6525,  6526,  6531,  6533,  6535,\n",
       "              6536,  6537,  6539,  6540,  6541,  6679,  7405,  8203,  9790,\n",
       "             10290, 10729],\n",
       "            dtype='int64'),\n",
       " 'LIFESTYLE': Int64Index([ 1562,  1563,  1564,  1565,  1566,  1567,  1568,  1569,  1570,\n",
       "              1571,\n",
       "             ...\n",
       "             10617, 10623, 10637, 10644, 10663, 10719, 10742, 10797, 10805,\n",
       "             10840],\n",
       "            dtype='int64', length=314),\n",
       " 'MAPS_AND_NAVIGATION': Int64Index([ 3820,  3821,  3822,  3823,  3824,  3825,  3826,  3827,  3828,\n",
       "              3829,\n",
       "             ...\n",
       "              9952,  9953,  9954,  9957,  9958,  9967, 10638, 10725, 10737,\n",
       "             10755],\n",
       "            dtype='int64', length=124),\n",
       " 'MEDICAL': Int64Index([ 2243,  2244,  2245,  2246,  2247,  2248,  2249,  2250,  2251,\n",
       "              2252,\n",
       "             ...\n",
       "              9711,  9745,  9775,  9778, 10049, 10400, 10410, 10523, 10730,\n",
       "             10768],\n",
       "            dtype='int64', length=350),\n",
       " 'NEWS_AND_MAGAZINES': Int64Index([ 3715,  3716,  3717,  3718,  3719,  3720,  3721,  3722,  3723,\n",
       "              3724,\n",
       "             ...\n",
       "             10607, 10614, 10616, 10620, 10635, 10639, 10641, 10646, 10680,\n",
       "             10830],\n",
       "            dtype='int64', length=233),\n",
       " 'PARENTING': Int64Index([3575, 3576, 3578, 3581, 3582, 3584, 3586, 3587, 3588, 3590, 3591,\n",
       "             3592, 3593, 3594, 3595, 3596, 3597, 3598, 3600, 3601, 3602, 3604,\n",
       "             3605, 3606, 3607, 3608, 3609, 3610, 3611, 3612, 3613, 3614, 3615,\n",
       "             3617, 3618, 3619, 3620, 3622, 3623, 3624, 3625, 4608, 5920, 5973,\n",
       "             6486, 7229, 7631, 7658, 8335, 9311],\n",
       "            dtype='int64'),\n",
       " 'PERSONALIZATION': Int64Index([ 3352,  3353,  3354,  3355,  3356,  3357,  3358,  3359,  3360,\n",
       "              3361,\n",
       "             ...\n",
       "             10656, 10667, 10675, 10677, 10678, 10690, 10710, 10722, 10733,\n",
       "             10747],\n",
       "            dtype='int64', length=314),\n",
       " 'PHOTOGRAPHY': Int64Index([ 2801,  2802,  2803,  2804,  2805,  2806,  2807,  2808,  2809,\n",
       "              2810,\n",
       "             ...\n",
       "             10389, 10397, 10509, 10610, 10648, 10666, 10707, 10716, 10726,\n",
       "             10740],\n",
       "            dtype='int64', length=317),\n",
       " 'PRODUCTIVITY': Int64Index([ 3450,  3451,  3452,  3453,  3454,  3455,  3456,  3457,  3458,\n",
       "              3459,\n",
       "             ...\n",
       "             10449, 10450, 10454, 10466, 10516, 10576, 10585, 10599, 10681,\n",
       "             10771],\n",
       "            dtype='int64', length=351),\n",
       " 'SHOPPING': Int64Index([ 2654,  2655,  2656,  2657,  2658,  2659,  2660,  2661,  2662,\n",
       "              2663,\n",
       "             ...\n",
       "              9022,  9107,  9111,  9191,  9842,  9942, 10276, 10642, 10712,\n",
       "             10753],\n",
       "            dtype='int64', length=238),\n",
       " 'SOCIAL': Int64Index([ 2544,  2545,  2546,  2547,  2548,  2549,  2550,  2551,  2552,\n",
       "              2553,\n",
       "             ...\n",
       "             10231, 10233, 10235, 10251, 10652, 10689, 10714, 10765, 10799,\n",
       "             10826],\n",
       "            dtype='int64', length=259),\n",
       " 'SPORTS': Int64Index([ 2959,  2960,  2961,  2962,  2963,  2964,  2965,  2966,  2967,\n",
       "              2968,\n",
       "             ...\n",
       "             10564, 10568, 10570, 10582, 10586, 10594, 10604, 10645, 10683,\n",
       "             10723],\n",
       "            dtype='int64', length=319),\n",
       " 'TOOLS': Int64Index([ 3233,  3234,  3235,  3236,  3237,  3238,  3239,  3240,  3241,\n",
       "              3242,\n",
       "             ...\n",
       "             10750, 10756, 10757, 10758, 10766, 10786, 10795, 10796, 10800,\n",
       "             10817],\n",
       "            dtype='int64', length=734),\n",
       " 'TRAVEL_AND_LOCAL': Int64Index([ 3102,  3103,  3104,  3105,  3106,  3107,  3108,  3109,  3110,\n",
       "              3111,\n",
       "             ...\n",
       "             10152, 10491, 10569, 10588, 10589, 10601, 10603, 10621, 10633,\n",
       "             10634],\n",
       "            dtype='int64', length=226),\n",
       " 'VIDEO_PLAYERS': Int64Index([ 3665,  3666,  3667,  3668,  3669,  3670,  3671,  3672,  3673,\n",
       "              3674,\n",
       "             ...\n",
       "             10132, 10136, 10143, 10150, 10165, 10223, 10226, 10237, 10318,\n",
       "             10647],\n",
       "            dtype='int64', length=160),\n",
       " 'WEATHER': Int64Index([ 3626,  3627,  3628,  3629,  3630,  3631,  3632,  3633,  3634,\n",
       "              3635,  3636,  3637,  3638,  3639,  3640,  3641,  3642,  3643,\n",
       "              3644,  3645,  3646,  3647,  3648,  3649,  3650,  3651,  3652,\n",
       "              3653,  3654,  3655,  3656,  3657,  3658,  3659,  3660,  3661,\n",
       "              3662,  3663,  3664,  4128,  4133,  4716,  4719,  4725,  4955,\n",
       "              4962,  4976,  5512,  5659,  5768,  5778,  5858,  6063,  7036,\n",
       "              7491,  8153,  8168,  8291,  8745,  8827,  8844,  8912,  9105,\n",
       "              9491,  9562,  9568, 10019, 10040, 10042, 10058, 10148, 10581,\n",
       "             10583, 10713, 10832],\n",
       "            dtype='int64')}"
      ]
     },
     "execution_count": 55,
     "metadata": {},
     "output_type": "execute_result"
    }
   ],
   "source": [
    "dif_cat.groups"
   ]
  },
  {
   "cell_type": "code",
   "execution_count": 56,
   "metadata": {},
   "outputs": [],
   "source": [
    "num_apps=dif_cat['App'].nunique()"
   ]
  },
  {
   "cell_type": "code",
   "execution_count": 57,
   "metadata": {},
   "outputs": [
    {
     "data": {
      "text/plain": [
       "Category\n",
       "ART_AND_DESIGN           61\n",
       "AUTO_AND_VEHICLES        73\n",
       "BEAUTY                   42\n",
       "BOOKS_AND_REFERENCE     169\n",
       "BUSINESS                263\n",
       "COMICS                   54\n",
       "COMMUNICATION           257\n",
       "DATING                  134\n",
       "EDUCATION               118\n",
       "ENTERTAINMENT           102\n",
       "EVENTS                   45\n",
       "FAMILY                 1684\n",
       "FINANCE                 302\n",
       "FOOD_AND_DRINK           94\n",
       "GAME                    913\n",
       "HEALTH_AND_FITNESS      244\n",
       "HOUSE_AND_HOME           62\n",
       "LIBRARIES_AND_DEMO       64\n",
       "LIFESTYLE               301\n",
       "MAPS_AND_NAVIGATION     118\n",
       "MEDICAL                 291\n",
       "NEWS_AND_MAGAZINES      204\n",
       "PARENTING                50\n",
       "PERSONALIZATION         298\n",
       "PHOTOGRAPHY             263\n",
       "PRODUCTIVITY            301\n",
       "SHOPPING                180\n",
       "SOCIAL                  203\n",
       "SPORTS                  262\n",
       "TOOLS                   720\n",
       "TRAVEL_AND_LOCAL        187\n",
       "VIDEO_PLAYERS           149\n",
       "WEATHER                  72\n",
       "Name: App, dtype: int64"
      ]
     },
     "execution_count": 57,
     "metadata": {},
     "output_type": "execute_result"
    }
   ],
   "source": [
    "num_apps"
   ]
  },
  {
   "cell_type": "code",
   "execution_count": 58,
   "metadata": {},
   "outputs": [
    {
     "data": {
      "image/png": "[encoded data removed]",
      "text/plain": [
       "<Figure size 1440x432 with 1 Axes>"
      ]
     },
     "metadata": {},
     "output_type": "display_data"
    }
   ],
   "source": [
    "plt.figure(figsize=(20,6))\n",
    "plt.plot(num_apps)\n",
    "plt.xticks(rotation=90)\n",
    "plt.title(\"Number of apps in each category:\")\n",
    "plt.xlabel('Category')\n",
    "plt.ylabel('Number of Apps');"
   ]
  },
  {
   "cell_type": "markdown",
   "metadata": {},
   "source": [
    "From Graph we can notice that largest number of apps falls in Family Category followed by Games and Tools."
   ]
  },
  {
   "cell_type": "markdown",
   "metadata": {},
   "source": [
    "### Which are the top rated Gaming Apps which has more than 10 million Installs?"
   ]
  },
  {
   "cell_type": "code",
   "execution_count": 59,
   "metadata": {},
   "outputs": [],
   "source": [
    "Games=dif_cat.get_group('GAME')"
   ]
  },
  {
   "cell_type": "code",
   "execution_count": 60,
   "metadata": {},
   "outputs": [
    {
     "data": {
      "text/html": [
       "<div>\n",
       "<style scoped>\n",
       "    .dataframe tbody tr th:only-of-type {\n",
       "        vertical-align: middle;\n",
       "    }\n",
       "\n",
       "    .dataframe tbody tr th {\n",
       "        vertical-align: top;\n",
       "    }\n",
       "\n",
       "    .dataframe thead th {\n",
       "        text-align: right;\n",
       "    }\n",
       "</style>\n",
       "<table border=\"1\" class=\"dataframe\">\n",
       "  <thead>\n",
       "    <tr style=\"text-align: right;\">\n",
       "      <th></th>\n",
       "      <th>App</th>\n",
       "      <th>Category</th>\n",
       "      <th>Rating</th>\n",
       "      <th>Reviews</th>\n",
       "      <th>Size</th>\n",
       "      <th>Installs</th>\n",
       "      <th>Type</th>\n",
       "      <th>Price</th>\n",
       "      <th>Content Rating</th>\n",
       "      <th>Genres</th>\n",
       "      <th>Last Updated</th>\n",
       "      <th>Current Ver</th>\n",
       "      <th>Android Ver</th>\n",
       "    </tr>\n",
       "  </thead>\n",
       "  <tbody>\n",
       "    <tr>\n",
       "      <th>1653</th>\n",
       "      <td>ROBLOX</td>\n",
       "      <td>GAME</td>\n",
       "      <td>4.5</td>\n",
       "      <td>4447388</td>\n",
       "      <td>67.0</td>\n",
       "      <td>100000000</td>\n",
       "      <td>Free</td>\n",
       "      <td>0.0</td>\n",
       "      <td>Everyone 10+</td>\n",
       "      <td>Adventure;Action &amp; Adventure</td>\n",
       "      <td>July 31, 2018</td>\n",
       "      <td>2.347.225742</td>\n",
       "      <td>4.1 and up</td>\n",
       "    </tr>\n",
       "    <tr>\n",
       "      <th>1654</th>\n",
       "      <td>Subway Surfers</td>\n",
       "      <td>GAME</td>\n",
       "      <td>4.5</td>\n",
       "      <td>27722264</td>\n",
       "      <td>76.0</td>\n",
       "      <td>1000000000</td>\n",
       "      <td>Free</td>\n",
       "      <td>0.0</td>\n",
       "      <td>Everyone 10+</td>\n",
       "      <td>Arcade</td>\n",
       "      <td>July 12, 2018</td>\n",
       "      <td>1.90.0</td>\n",
       "      <td>4.1 and up</td>\n",
       "    </tr>\n",
       "    <tr>\n",
       "      <th>1655</th>\n",
       "      <td>Candy Crush Saga</td>\n",
       "      <td>GAME</td>\n",
       "      <td>4.4</td>\n",
       "      <td>22426677</td>\n",
       "      <td>74.0</td>\n",
       "      <td>500000000</td>\n",
       "      <td>Free</td>\n",
       "      <td>0.0</td>\n",
       "      <td>Everyone</td>\n",
       "      <td>Casual</td>\n",
       "      <td>July 5, 2018</td>\n",
       "      <td>1.129.0.2</td>\n",
       "      <td>4.1 and up</td>\n",
       "    </tr>\n",
       "    <tr>\n",
       "      <th>1656</th>\n",
       "      <td>Solitaire</td>\n",
       "      <td>GAME</td>\n",
       "      <td>4.7</td>\n",
       "      <td>254258</td>\n",
       "      <td>23.0</td>\n",
       "      <td>10000000</td>\n",
       "      <td>Free</td>\n",
       "      <td>0.0</td>\n",
       "      <td>Everyone</td>\n",
       "      <td>Card</td>\n",
       "      <td>August 1, 2018</td>\n",
       "      <td>2.137.0</td>\n",
       "      <td>4.1 and up</td>\n",
       "    </tr>\n",
       "    <tr>\n",
       "      <th>1657</th>\n",
       "      <td>Bubble Shooter</td>\n",
       "      <td>GAME</td>\n",
       "      <td>4.5</td>\n",
       "      <td>148897</td>\n",
       "      <td>46.0</td>\n",
       "      <td>10000000</td>\n",
       "      <td>Free</td>\n",
       "      <td>0.0</td>\n",
       "      <td>Everyone</td>\n",
       "      <td>Casual</td>\n",
       "      <td>July 17, 2018</td>\n",
       "      <td>1.20.1</td>\n",
       "      <td>4.0.3 and up</td>\n",
       "    </tr>\n",
       "  </tbody>\n",
       "</table>\n",
       "</div>"
      ],
      "text/plain": [
       "                   App Category  Rating   Reviews  Size    Installs  Type  \\\n",
       "1653            ROBLOX     GAME     4.5   4447388  67.0   100000000  Free   \n",
       "1654    Subway Surfers     GAME     4.5  27722264  76.0  1000000000  Free   \n",
       "1655  Candy Crush Saga     GAME     4.4  22426677  74.0   500000000  Free   \n",
       "1656         Solitaire     GAME     4.7    254258  23.0    10000000  Free   \n",
       "1657    Bubble Shooter     GAME     4.5    148897  46.0    10000000  Free   \n",
       "\n",
       "      Price Content Rating                        Genres    Last Updated  \\\n",
       "1653    0.0   Everyone 10+  Adventure;Action & Adventure   July 31, 2018   \n",
       "1654    0.0   Everyone 10+                        Arcade   July 12, 2018   \n",
       "1655    0.0       Everyone                        Casual    July 5, 2018   \n",
       "1656    0.0       Everyone                          Card  August 1, 2018   \n",
       "1657    0.0       Everyone                        Casual   July 17, 2018   \n",
       "\n",
       "       Current Ver   Android Ver  \n",
       "1653  2.347.225742    4.1 and up  \n",
       "1654        1.90.0    4.1 and up  \n",
       "1655     1.129.0.2    4.1 and up  \n",
       "1656       2.137.0    4.1 and up  \n",
       "1657        1.20.1  4.0.3 and up  "
      ]
     },
     "execution_count": 60,
     "metadata": {},
     "output_type": "execute_result"
    }
   ],
   "source": [
    "Games.head()"
   ]
  },
  {
   "cell_type": "code",
   "execution_count": 61,
   "metadata": {},
   "outputs": [],
   "source": [
    "Top_Game=Games[Games.Installs>10e7].sort_values('Rating',ascending=False)"
   ]
  },
  {
   "cell_type": "code",
   "execution_count": 62,
   "metadata": {},
   "outputs": [
    {
     "data": {
      "text/html": [
       "<div>\n",
       "<style scoped>\n",
       "    .dataframe tbody tr th:only-of-type {\n",
       "        vertical-align: middle;\n",
       "    }\n",
       "\n",
       "    .dataframe tbody tr th {\n",
       "        vertical-align: top;\n",
       "    }\n",
       "\n",
       "    .dataframe thead th {\n",
       "        text-align: right;\n",
       "    }\n",
       "</style>\n",
       "<table border=\"1\" class=\"dataframe\">\n",
       "  <thead>\n",
       "    <tr style=\"text-align: right;\">\n",
       "      <th></th>\n",
       "      <th>App</th>\n",
       "      <th>Category</th>\n",
       "      <th>Rating</th>\n",
       "      <th>Reviews</th>\n",
       "      <th>Size</th>\n",
       "      <th>Installs</th>\n",
       "      <th>Type</th>\n",
       "      <th>Price</th>\n",
       "      <th>Content Rating</th>\n",
       "      <th>Genres</th>\n",
       "      <th>Last Updated</th>\n",
       "      <th>Current Ver</th>\n",
       "      <th>Android Ver</th>\n",
       "    </tr>\n",
       "  </thead>\n",
       "  <tbody>\n",
       "    <tr>\n",
       "      <th>1654</th>\n",
       "      <td>Subway Surfers</td>\n",
       "      <td>GAME</td>\n",
       "      <td>4.5</td>\n",
       "      <td>27722264</td>\n",
       "      <td>76.0</td>\n",
       "      <td>1000000000</td>\n",
       "      <td>Free</td>\n",
       "      <td>0.0</td>\n",
       "      <td>Everyone 10+</td>\n",
       "      <td>Arcade</td>\n",
       "      <td>July 12, 2018</td>\n",
       "      <td>1.90.0</td>\n",
       "      <td>4.1 and up</td>\n",
       "    </tr>\n",
       "    <tr>\n",
       "      <th>3896</th>\n",
       "      <td>Subway Surfers</td>\n",
       "      <td>GAME</td>\n",
       "      <td>4.5</td>\n",
       "      <td>27711703</td>\n",
       "      <td>76.0</td>\n",
       "      <td>1000000000</td>\n",
       "      <td>Free</td>\n",
       "      <td>0.0</td>\n",
       "      <td>Everyone 10+</td>\n",
       "      <td>Arcade</td>\n",
       "      <td>July 12, 2018</td>\n",
       "      <td>1.90.0</td>\n",
       "      <td>4.1 and up</td>\n",
       "    </tr>\n",
       "    <tr>\n",
       "      <th>1700</th>\n",
       "      <td>Subway Surfers</td>\n",
       "      <td>GAME</td>\n",
       "      <td>4.5</td>\n",
       "      <td>27723193</td>\n",
       "      <td>76.0</td>\n",
       "      <td>1000000000</td>\n",
       "      <td>Free</td>\n",
       "      <td>0.0</td>\n",
       "      <td>Everyone 10+</td>\n",
       "      <td>Arcade</td>\n",
       "      <td>July 12, 2018</td>\n",
       "      <td>1.90.0</td>\n",
       "      <td>4.1 and up</td>\n",
       "    </tr>\n",
       "    <tr>\n",
       "      <th>1722</th>\n",
       "      <td>My Talking Tom</td>\n",
       "      <td>GAME</td>\n",
       "      <td>4.5</td>\n",
       "      <td>14891223</td>\n",
       "      <td>NaN</td>\n",
       "      <td>500000000</td>\n",
       "      <td>Free</td>\n",
       "      <td>0.0</td>\n",
       "      <td>Everyone</td>\n",
       "      <td>Casual</td>\n",
       "      <td>July 19, 2018</td>\n",
       "      <td>4.8.0.132</td>\n",
       "      <td>4.1 and up</td>\n",
       "    </tr>\n",
       "    <tr>\n",
       "      <th>1917</th>\n",
       "      <td>Subway Surfers</td>\n",
       "      <td>GAME</td>\n",
       "      <td>4.5</td>\n",
       "      <td>27725352</td>\n",
       "      <td>76.0</td>\n",
       "      <td>1000000000</td>\n",
       "      <td>Free</td>\n",
       "      <td>0.0</td>\n",
       "      <td>Everyone 10+</td>\n",
       "      <td>Arcade</td>\n",
       "      <td>July 12, 2018</td>\n",
       "      <td>1.90.0</td>\n",
       "      <td>4.1 and up</td>\n",
       "    </tr>\n",
       "    <tr>\n",
       "      <th>1750</th>\n",
       "      <td>Subway Surfers</td>\n",
       "      <td>GAME</td>\n",
       "      <td>4.5</td>\n",
       "      <td>27724094</td>\n",
       "      <td>76.0</td>\n",
       "      <td>1000000000</td>\n",
       "      <td>Free</td>\n",
       "      <td>0.0</td>\n",
       "      <td>Everyone 10+</td>\n",
       "      <td>Arcade</td>\n",
       "      <td>July 12, 2018</td>\n",
       "      <td>1.90.0</td>\n",
       "      <td>4.1 and up</td>\n",
       "    </tr>\n",
       "    <tr>\n",
       "      <th>1872</th>\n",
       "      <td>Subway Surfers</td>\n",
       "      <td>GAME</td>\n",
       "      <td>4.5</td>\n",
       "      <td>27725352</td>\n",
       "      <td>76.0</td>\n",
       "      <td>1000000000</td>\n",
       "      <td>Free</td>\n",
       "      <td>0.0</td>\n",
       "      <td>Everyone 10+</td>\n",
       "      <td>Arcade</td>\n",
       "      <td>July 12, 2018</td>\n",
       "      <td>1.90.0</td>\n",
       "      <td>4.1 and up</td>\n",
       "    </tr>\n",
       "    <tr>\n",
       "      <th>1908</th>\n",
       "      <td>My Talking Tom</td>\n",
       "      <td>GAME</td>\n",
       "      <td>4.5</td>\n",
       "      <td>14892469</td>\n",
       "      <td>NaN</td>\n",
       "      <td>500000000</td>\n",
       "      <td>Free</td>\n",
       "      <td>0.0</td>\n",
       "      <td>Everyone</td>\n",
       "      <td>Casual</td>\n",
       "      <td>July 19, 2018</td>\n",
       "      <td>4.8.0.132</td>\n",
       "      <td>4.1 and up</td>\n",
       "    </tr>\n",
       "    <tr>\n",
       "      <th>1966</th>\n",
       "      <td>Candy Crush Saga</td>\n",
       "      <td>GAME</td>\n",
       "      <td>4.4</td>\n",
       "      <td>22430188</td>\n",
       "      <td>74.0</td>\n",
       "      <td>500000000</td>\n",
       "      <td>Free</td>\n",
       "      <td>0.0</td>\n",
       "      <td>Everyone</td>\n",
       "      <td>Casual</td>\n",
       "      <td>July 5, 2018</td>\n",
       "      <td>1.129.0.2</td>\n",
       "      <td>4.1 and up</td>\n",
       "    </tr>\n",
       "    <tr>\n",
       "      <th>1705</th>\n",
       "      <td>Candy Crush Saga</td>\n",
       "      <td>GAME</td>\n",
       "      <td>4.4</td>\n",
       "      <td>22428456</td>\n",
       "      <td>74.0</td>\n",
       "      <td>500000000</td>\n",
       "      <td>Free</td>\n",
       "      <td>0.0</td>\n",
       "      <td>Everyone</td>\n",
       "      <td>Casual</td>\n",
       "      <td>July 5, 2018</td>\n",
       "      <td>1.129.0.2</td>\n",
       "      <td>4.1 and up</td>\n",
       "    </tr>\n",
       "    <tr>\n",
       "      <th>1751</th>\n",
       "      <td>Candy Crush Saga</td>\n",
       "      <td>GAME</td>\n",
       "      <td>4.4</td>\n",
       "      <td>22428456</td>\n",
       "      <td>74.0</td>\n",
       "      <td>500000000</td>\n",
       "      <td>Free</td>\n",
       "      <td>0.0</td>\n",
       "      <td>Everyone</td>\n",
       "      <td>Casual</td>\n",
       "      <td>July 5, 2018</td>\n",
       "      <td>1.129.0.2</td>\n",
       "      <td>4.1 and up</td>\n",
       "    </tr>\n",
       "    <tr>\n",
       "      <th>1655</th>\n",
       "      <td>Candy Crush Saga</td>\n",
       "      <td>GAME</td>\n",
       "      <td>4.4</td>\n",
       "      <td>22426677</td>\n",
       "      <td>74.0</td>\n",
       "      <td>500000000</td>\n",
       "      <td>Free</td>\n",
       "      <td>0.0</td>\n",
       "      <td>Everyone</td>\n",
       "      <td>Casual</td>\n",
       "      <td>July 5, 2018</td>\n",
       "      <td>1.129.0.2</td>\n",
       "      <td>4.1 and up</td>\n",
       "    </tr>\n",
       "    <tr>\n",
       "      <th>1842</th>\n",
       "      <td>Candy Crush Saga</td>\n",
       "      <td>GAME</td>\n",
       "      <td>4.4</td>\n",
       "      <td>22429716</td>\n",
       "      <td>74.0</td>\n",
       "      <td>500000000</td>\n",
       "      <td>Free</td>\n",
       "      <td>0.0</td>\n",
       "      <td>Everyone</td>\n",
       "      <td>Casual</td>\n",
       "      <td>July 5, 2018</td>\n",
       "      <td>1.129.0.2</td>\n",
       "      <td>4.1 and up</td>\n",
       "    </tr>\n",
       "    <tr>\n",
       "      <th>1869</th>\n",
       "      <td>Candy Crush Saga</td>\n",
       "      <td>GAME</td>\n",
       "      <td>4.4</td>\n",
       "      <td>22430188</td>\n",
       "      <td>74.0</td>\n",
       "      <td>500000000</td>\n",
       "      <td>Free</td>\n",
       "      <td>0.0</td>\n",
       "      <td>Everyone</td>\n",
       "      <td>Casual</td>\n",
       "      <td>July 5, 2018</td>\n",
       "      <td>1.129.0.2</td>\n",
       "      <td>4.1 and up</td>\n",
       "    </tr>\n",
       "    <tr>\n",
       "      <th>1886</th>\n",
       "      <td>Temple Run 2</td>\n",
       "      <td>GAME</td>\n",
       "      <td>4.3</td>\n",
       "      <td>8119151</td>\n",
       "      <td>62.0</td>\n",
       "      <td>500000000</td>\n",
       "      <td>Free</td>\n",
       "      <td>0.0</td>\n",
       "      <td>Everyone</td>\n",
       "      <td>Action</td>\n",
       "      <td>July 5, 2018</td>\n",
       "      <td>1.49.1</td>\n",
       "      <td>4.0 and up</td>\n",
       "    </tr>\n",
       "    <tr>\n",
       "      <th>1920</th>\n",
       "      <td>Temple Run 2</td>\n",
       "      <td>GAME</td>\n",
       "      <td>4.3</td>\n",
       "      <td>8119154</td>\n",
       "      <td>62.0</td>\n",
       "      <td>500000000</td>\n",
       "      <td>Free</td>\n",
       "      <td>0.0</td>\n",
       "      <td>Everyone</td>\n",
       "      <td>Action</td>\n",
       "      <td>July 5, 2018</td>\n",
       "      <td>1.49.1</td>\n",
       "      <td>4.0 and up</td>\n",
       "    </tr>\n",
       "    <tr>\n",
       "      <th>1759</th>\n",
       "      <td>Temple Run 2</td>\n",
       "      <td>GAME</td>\n",
       "      <td>4.3</td>\n",
       "      <td>8118937</td>\n",
       "      <td>62.0</td>\n",
       "      <td>500000000</td>\n",
       "      <td>Free</td>\n",
       "      <td>0.0</td>\n",
       "      <td>Everyone</td>\n",
       "      <td>Action</td>\n",
       "      <td>July 5, 2018</td>\n",
       "      <td>1.49.1</td>\n",
       "      <td>4.0 and up</td>\n",
       "    </tr>\n",
       "    <tr>\n",
       "      <th>1885</th>\n",
       "      <td>Pou</td>\n",
       "      <td>GAME</td>\n",
       "      <td>4.3</td>\n",
       "      <td>10486018</td>\n",
       "      <td>24.0</td>\n",
       "      <td>500000000</td>\n",
       "      <td>Free</td>\n",
       "      <td>0.0</td>\n",
       "      <td>Everyone</td>\n",
       "      <td>Casual</td>\n",
       "      <td>May 25, 2018</td>\n",
       "      <td>1.4.77</td>\n",
       "      <td>4.0 and up</td>\n",
       "    </tr>\n",
       "    <tr>\n",
       "      <th>1729</th>\n",
       "      <td>Temple Run 2</td>\n",
       "      <td>GAME</td>\n",
       "      <td>4.3</td>\n",
       "      <td>8118937</td>\n",
       "      <td>62.0</td>\n",
       "      <td>500000000</td>\n",
       "      <td>Free</td>\n",
       "      <td>0.0</td>\n",
       "      <td>Everyone</td>\n",
       "      <td>Action</td>\n",
       "      <td>July 5, 2018</td>\n",
       "      <td>1.49.1</td>\n",
       "      <td>4.0 and up</td>\n",
       "    </tr>\n",
       "    <tr>\n",
       "      <th>1702</th>\n",
       "      <td>Pou</td>\n",
       "      <td>GAME</td>\n",
       "      <td>4.3</td>\n",
       "      <td>10485334</td>\n",
       "      <td>24.0</td>\n",
       "      <td>500000000</td>\n",
       "      <td>Free</td>\n",
       "      <td>0.0</td>\n",
       "      <td>Everyone</td>\n",
       "      <td>Casual</td>\n",
       "      <td>May 25, 2018</td>\n",
       "      <td>1.4.77</td>\n",
       "      <td>4.0 and up</td>\n",
       "    </tr>\n",
       "    <tr>\n",
       "      <th>1662</th>\n",
       "      <td>Pou</td>\n",
       "      <td>GAME</td>\n",
       "      <td>4.3</td>\n",
       "      <td>10485308</td>\n",
       "      <td>24.0</td>\n",
       "      <td>500000000</td>\n",
       "      <td>Free</td>\n",
       "      <td>0.0</td>\n",
       "      <td>Everyone</td>\n",
       "      <td>Casual</td>\n",
       "      <td>May 25, 2018</td>\n",
       "      <td>1.4.77</td>\n",
       "      <td>4.0 and up</td>\n",
       "    </tr>\n",
       "    <tr>\n",
       "      <th>1661</th>\n",
       "      <td>Temple Run 2</td>\n",
       "      <td>GAME</td>\n",
       "      <td>4.3</td>\n",
       "      <td>8118609</td>\n",
       "      <td>62.0</td>\n",
       "      <td>500000000</td>\n",
       "      <td>Free</td>\n",
       "      <td>0.0</td>\n",
       "      <td>Everyone</td>\n",
       "      <td>Action</td>\n",
       "      <td>July 5, 2018</td>\n",
       "      <td>1.49.1</td>\n",
       "      <td>4.0 and up</td>\n",
       "    </tr>\n",
       "    <tr>\n",
       "      <th>4041</th>\n",
       "      <td>Temple Run 2</td>\n",
       "      <td>GAME</td>\n",
       "      <td>4.3</td>\n",
       "      <td>8116142</td>\n",
       "      <td>62.0</td>\n",
       "      <td>500000000</td>\n",
       "      <td>Free</td>\n",
       "      <td>0.0</td>\n",
       "      <td>Everyone</td>\n",
       "      <td>Action</td>\n",
       "      <td>July 5, 2018</td>\n",
       "      <td>1.49.1</td>\n",
       "      <td>4.0 and up</td>\n",
       "    </tr>\n",
       "  </tbody>\n",
       "</table>\n",
       "</div>"
      ],
      "text/plain": [
       "                   App Category  Rating   Reviews  Size    Installs  Type  \\\n",
       "1654    Subway Surfers     GAME     4.5  27722264  76.0  1000000000  Free   \n",
       "3896    Subway Surfers     GAME     4.5  27711703  76.0  1000000000  Free   \n",
       "1700    Subway Surfers     GAME     4.5  27723193  76.0  1000000000  Free   \n",
       "1722    My Talking Tom     GAME     4.5  14891223   NaN   500000000  Free   \n",
       "1917    Subway Surfers     GAME     4.5  27725352  76.0  1000000000  Free   \n",
       "1750    Subway Surfers     GAME     4.5  27724094  76.0  1000000000  Free   \n",
       "1872    Subway Surfers     GAME     4.5  27725352  76.0  1000000000  Free   \n",
       "1908    My Talking Tom     GAME     4.5  14892469   NaN   500000000  Free   \n",
       "1966  Candy Crush Saga     GAME     4.4  22430188  74.0   500000000  Free   \n",
       "1705  Candy Crush Saga     GAME     4.4  22428456  74.0   500000000  Free   \n",
       "1751  Candy Crush Saga     GAME     4.4  22428456  74.0   500000000  Free   \n",
       "1655  Candy Crush Saga     GAME     4.4  22426677  74.0   500000000  Free   \n",
       "1842  Candy Crush Saga     GAME     4.4  22429716  74.0   500000000  Free   \n",
       "1869  Candy Crush Saga     GAME     4.4  22430188  74.0   500000000  Free   \n",
       "1886      Temple Run 2     GAME     4.3   8119151  62.0   500000000  Free   \n",
       "1920      Temple Run 2     GAME     4.3   8119154  62.0   500000000  Free   \n",
       "1759      Temple Run 2     GAME     4.3   8118937  62.0   500000000  Free   \n",
       "1885               Pou     GAME     4.3  10486018  24.0   500000000  Free   \n",
       "1729      Temple Run 2     GAME     4.3   8118937  62.0   500000000  Free   \n",
       "1702               Pou     GAME     4.3  10485334  24.0   500000000  Free   \n",
       "1662               Pou     GAME     4.3  10485308  24.0   500000000  Free   \n",
       "1661      Temple Run 2     GAME     4.3   8118609  62.0   500000000  Free   \n",
       "4041      Temple Run 2     GAME     4.3   8116142  62.0   500000000  Free   \n",
       "\n",
       "      Price Content Rating  Genres   Last Updated Current Ver Android Ver  \n",
       "1654    0.0   Everyone 10+  Arcade  July 12, 2018      1.90.0  4.1 and up  \n",
       "3896    0.0   Everyone 10+  Arcade  July 12, 2018      1.90.0  4.1 and up  \n",
       "1700    0.0   Everyone 10+  Arcade  July 12, 2018      1.90.0  4.1 and up  \n",
       "1722    0.0       Everyone  Casual  July 19, 2018   4.8.0.132  4.1 and up  \n",
       "1917    0.0   Everyone 10+  Arcade  July 12, 2018      1.90.0  4.1 and up  \n",
       "1750    0.0   Everyone 10+  Arcade  July 12, 2018      1.90.0  4.1 and up  \n",
       "1872    0.0   Everyone 10+  Arcade  July 12, 2018      1.90.0  4.1 and up  \n",
       "1908    0.0       Everyone  Casual  July 19, 2018   4.8.0.132  4.1 and up  \n",
       "1966    0.0       Everyone  Casual   July 5, 2018   1.129.0.2  4.1 and up  \n",
       "1705    0.0       Everyone  Casual   July 5, 2018   1.129.0.2  4.1 and up  \n",
       "1751    0.0       Everyone  Casual   July 5, 2018   1.129.0.2  4.1 and up  \n",
       "1655    0.0       Everyone  Casual   July 5, 2018   1.129.0.2  4.1 and up  \n",
       "1842    0.0       Everyone  Casual   July 5, 2018   1.129.0.2  4.1 and up  \n",
       "1869    0.0       Everyone  Casual   July 5, 2018   1.129.0.2  4.1 and up  \n",
       "1886    0.0       Everyone  Action   July 5, 2018      1.49.1  4.0 and up  \n",
       "1920    0.0       Everyone  Action   July 5, 2018      1.49.1  4.0 and up  \n",
       "1759    0.0       Everyone  Action   July 5, 2018      1.49.1  4.0 and up  \n",
       "1885    0.0       Everyone  Casual   May 25, 2018      1.4.77  4.0 and up  \n",
       "1729    0.0       Everyone  Action   July 5, 2018      1.49.1  4.0 and up  \n",
       "1702    0.0       Everyone  Casual   May 25, 2018      1.4.77  4.0 and up  \n",
       "1662    0.0       Everyone  Casual   May 25, 2018      1.4.77  4.0 and up  \n",
       "1661    0.0       Everyone  Action   July 5, 2018      1.49.1  4.0 and up  \n",
       "4041    0.0       Everyone  Action   July 5, 2018      1.49.1  4.0 and up  "
      ]
     },
     "execution_count": 62,
     "metadata": {},
     "output_type": "execute_result"
    }
   ],
   "source": [
    "Top_Game"
   ]
  },
  {
   "cell_type": "code",
   "execution_count": 63,
   "metadata": {},
   "outputs": [
    {
     "data": {
      "text/html": [
       "<div>\n",
       "<style scoped>\n",
       "    .dataframe tbody tr th:only-of-type {\n",
       "        vertical-align: middle;\n",
       "    }\n",
       "\n",
       "    .dataframe tbody tr th {\n",
       "        vertical-align: top;\n",
       "    }\n",
       "\n",
       "    .dataframe thead th {\n",
       "        text-align: right;\n",
       "    }\n",
       "</style>\n",
       "<table border=\"1\" class=\"dataframe\">\n",
       "  <thead>\n",
       "    <tr style=\"text-align: right;\">\n",
       "      <th></th>\n",
       "      <th>App</th>\n",
       "      <th>Category</th>\n",
       "      <th>Rating</th>\n",
       "      <th>Reviews</th>\n",
       "      <th>Size</th>\n",
       "      <th>Installs</th>\n",
       "      <th>Type</th>\n",
       "      <th>Price</th>\n",
       "      <th>Content Rating</th>\n",
       "      <th>Genres</th>\n",
       "      <th>Last Updated</th>\n",
       "      <th>Current Ver</th>\n",
       "      <th>Android Ver</th>\n",
       "    </tr>\n",
       "  </thead>\n",
       "  <tbody>\n",
       "    <tr>\n",
       "      <th>1654</th>\n",
       "      <td>Subway Surfers</td>\n",
       "      <td>GAME</td>\n",
       "      <td>4.5</td>\n",
       "      <td>27722264</td>\n",
       "      <td>76.0</td>\n",
       "      <td>1000000000</td>\n",
       "      <td>Free</td>\n",
       "      <td>0.0</td>\n",
       "      <td>Everyone 10+</td>\n",
       "      <td>Arcade</td>\n",
       "      <td>July 12, 2018</td>\n",
       "      <td>1.90.0</td>\n",
       "      <td>4.1 and up</td>\n",
       "    </tr>\n",
       "    <tr>\n",
       "      <th>1722</th>\n",
       "      <td>My Talking Tom</td>\n",
       "      <td>GAME</td>\n",
       "      <td>4.5</td>\n",
       "      <td>14891223</td>\n",
       "      <td>NaN</td>\n",
       "      <td>500000000</td>\n",
       "      <td>Free</td>\n",
       "      <td>0.0</td>\n",
       "      <td>Everyone</td>\n",
       "      <td>Casual</td>\n",
       "      <td>July 19, 2018</td>\n",
       "      <td>4.8.0.132</td>\n",
       "      <td>4.1 and up</td>\n",
       "    </tr>\n",
       "    <tr>\n",
       "      <th>1966</th>\n",
       "      <td>Candy Crush Saga</td>\n",
       "      <td>GAME</td>\n",
       "      <td>4.4</td>\n",
       "      <td>22430188</td>\n",
       "      <td>74.0</td>\n",
       "      <td>500000000</td>\n",
       "      <td>Free</td>\n",
       "      <td>0.0</td>\n",
       "      <td>Everyone</td>\n",
       "      <td>Casual</td>\n",
       "      <td>July 5, 2018</td>\n",
       "      <td>1.129.0.2</td>\n",
       "      <td>4.1 and up</td>\n",
       "    </tr>\n",
       "    <tr>\n",
       "      <th>1886</th>\n",
       "      <td>Temple Run 2</td>\n",
       "      <td>GAME</td>\n",
       "      <td>4.3</td>\n",
       "      <td>8119151</td>\n",
       "      <td>62.0</td>\n",
       "      <td>500000000</td>\n",
       "      <td>Free</td>\n",
       "      <td>0.0</td>\n",
       "      <td>Everyone</td>\n",
       "      <td>Action</td>\n",
       "      <td>July 5, 2018</td>\n",
       "      <td>1.49.1</td>\n",
       "      <td>4.0 and up</td>\n",
       "    </tr>\n",
       "    <tr>\n",
       "      <th>1885</th>\n",
       "      <td>Pou</td>\n",
       "      <td>GAME</td>\n",
       "      <td>4.3</td>\n",
       "      <td>10486018</td>\n",
       "      <td>24.0</td>\n",
       "      <td>500000000</td>\n",
       "      <td>Free</td>\n",
       "      <td>0.0</td>\n",
       "      <td>Everyone</td>\n",
       "      <td>Casual</td>\n",
       "      <td>May 25, 2018</td>\n",
       "      <td>1.4.77</td>\n",
       "      <td>4.0 and up</td>\n",
       "    </tr>\n",
       "  </tbody>\n",
       "</table>\n",
       "</div>"
      ],
      "text/plain": [
       "                   App Category  Rating   Reviews  Size    Installs  Type  \\\n",
       "1654    Subway Surfers     GAME     4.5  27722264  76.0  1000000000  Free   \n",
       "1722    My Talking Tom     GAME     4.5  14891223   NaN   500000000  Free   \n",
       "1966  Candy Crush Saga     GAME     4.4  22430188  74.0   500000000  Free   \n",
       "1886      Temple Run 2     GAME     4.3   8119151  62.0   500000000  Free   \n",
       "1885               Pou     GAME     4.3  10486018  24.0   500000000  Free   \n",
       "\n",
       "      Price Content Rating  Genres   Last Updated Current Ver Android Ver  \n",
       "1654    0.0   Everyone 10+  Arcade  July 12, 2018      1.90.0  4.1 and up  \n",
       "1722    0.0       Everyone  Casual  July 19, 2018   4.8.0.132  4.1 and up  \n",
       "1966    0.0       Everyone  Casual   July 5, 2018   1.129.0.2  4.1 and up  \n",
       "1886    0.0       Everyone  Action   July 5, 2018      1.49.1  4.0 and up  \n",
       "1885    0.0       Everyone  Casual   May 25, 2018      1.4.77  4.0 and up  "
      ]
     },
     "execution_count": 63,
     "metadata": {},
     "output_type": "execute_result"
    }
   ],
   "source": [
    "Top_Game.drop_duplicates(subset='App').head()"
   ]
  },
  {
   "cell_type": "markdown",
   "metadata": {},
   "source": [
    "### Which are the most popular family app with Good rating?"
   ]
  },
  {
   "cell_type": "markdown",
   "metadata": {},
   "source": [
    "In order to find popular apps, we need to find out the apps with highest number of installation and with highest rating."
   ]
  },
  {
   "cell_type": "code",
   "execution_count": 64,
   "metadata": {},
   "outputs": [],
   "source": [
    "Family=dif_cat.get_group('FAMILY')"
   ]
  },
  {
   "cell_type": "code",
   "execution_count": 65,
   "metadata": {},
   "outputs": [
    {
     "data": {
      "text/html": [
       "<div>\n",
       "<style scoped>\n",
       "    .dataframe tbody tr th:only-of-type {\n",
       "        vertical-align: middle;\n",
       "    }\n",
       "\n",
       "    .dataframe tbody tr th {\n",
       "        vertical-align: top;\n",
       "    }\n",
       "\n",
       "    .dataframe thead th {\n",
       "        text-align: right;\n",
       "    }\n",
       "</style>\n",
       "<table border=\"1\" class=\"dataframe\">\n",
       "  <thead>\n",
       "    <tr style=\"text-align: right;\">\n",
       "      <th></th>\n",
       "      <th>App</th>\n",
       "      <th>Category</th>\n",
       "      <th>Rating</th>\n",
       "      <th>Reviews</th>\n",
       "      <th>Size</th>\n",
       "      <th>Installs</th>\n",
       "      <th>Type</th>\n",
       "      <th>Price</th>\n",
       "      <th>Content Rating</th>\n",
       "      <th>Genres</th>\n",
       "      <th>Last Updated</th>\n",
       "      <th>Current Ver</th>\n",
       "      <th>Android Ver</th>\n",
       "    </tr>\n",
       "  </thead>\n",
       "  <tbody>\n",
       "    <tr>\n",
       "      <th>2014</th>\n",
       "      <td>YouTube Kids</td>\n",
       "      <td>FAMILY</td>\n",
       "      <td>4.5</td>\n",
       "      <td>470694</td>\n",
       "      <td>NaN</td>\n",
       "      <td>50000000</td>\n",
       "      <td>Free</td>\n",
       "      <td>0.0</td>\n",
       "      <td>Everyone</td>\n",
       "      <td>Entertainment;Music &amp; Video</td>\n",
       "      <td>August 3, 2018</td>\n",
       "      <td>3.43.3</td>\n",
       "      <td>4.1 and up</td>\n",
       "    </tr>\n",
       "    <tr>\n",
       "      <th>2015</th>\n",
       "      <td>Candy Bomb</td>\n",
       "      <td>FAMILY</td>\n",
       "      <td>4.4</td>\n",
       "      <td>42145</td>\n",
       "      <td>20.0</td>\n",
       "      <td>10000000</td>\n",
       "      <td>Free</td>\n",
       "      <td>0.0</td>\n",
       "      <td>Everyone</td>\n",
       "      <td>Casual;Brain Games</td>\n",
       "      <td>July 4, 2018</td>\n",
       "      <td>2.9.3181</td>\n",
       "      <td>4.0.3 and up</td>\n",
       "    </tr>\n",
       "    <tr>\n",
       "      <th>2016</th>\n",
       "      <td>ROBLOX</td>\n",
       "      <td>FAMILY</td>\n",
       "      <td>4.5</td>\n",
       "      <td>4449910</td>\n",
       "      <td>67.0</td>\n",
       "      <td>100000000</td>\n",
       "      <td>Free</td>\n",
       "      <td>0.0</td>\n",
       "      <td>Everyone 10+</td>\n",
       "      <td>Adventure;Action &amp; Adventure</td>\n",
       "      <td>July 31, 2018</td>\n",
       "      <td>2.347.225742</td>\n",
       "      <td>4.1 and up</td>\n",
       "    </tr>\n",
       "    <tr>\n",
       "      <th>2017</th>\n",
       "      <td>Jewels Crush- Match 3 Puzzle</td>\n",
       "      <td>FAMILY</td>\n",
       "      <td>4.4</td>\n",
       "      <td>14774</td>\n",
       "      <td>19.0</td>\n",
       "      <td>1000000</td>\n",
       "      <td>Free</td>\n",
       "      <td>0.0</td>\n",
       "      <td>Everyone</td>\n",
       "      <td>Casual;Brain Games</td>\n",
       "      <td>July 23, 2018</td>\n",
       "      <td>1.9.3901</td>\n",
       "      <td>4.0.3 and up</td>\n",
       "    </tr>\n",
       "    <tr>\n",
       "      <th>2018</th>\n",
       "      <td>Coloring &amp; Learn</td>\n",
       "      <td>FAMILY</td>\n",
       "      <td>4.4</td>\n",
       "      <td>12753</td>\n",
       "      <td>51.0</td>\n",
       "      <td>5000000</td>\n",
       "      <td>Free</td>\n",
       "      <td>0.0</td>\n",
       "      <td>Everyone</td>\n",
       "      <td>Educational;Creativity</td>\n",
       "      <td>July 17, 2018</td>\n",
       "      <td>1.49</td>\n",
       "      <td>4.0.3 and up</td>\n",
       "    </tr>\n",
       "  </tbody>\n",
       "</table>\n",
       "</div>"
      ],
      "text/plain": [
       "                               App Category  Rating  Reviews  Size   Installs  \\\n",
       "2014                  YouTube Kids   FAMILY     4.5   470694   NaN   50000000   \n",
       "2015                    Candy Bomb   FAMILY     4.4    42145  20.0   10000000   \n",
       "2016                        ROBLOX   FAMILY     4.5  4449910  67.0  100000000   \n",
       "2017  Jewels Crush- Match 3 Puzzle   FAMILY     4.4    14774  19.0    1000000   \n",
       "2018              Coloring & Learn   FAMILY     4.4    12753  51.0    5000000   \n",
       "\n",
       "      Type  Price Content Rating                        Genres  \\\n",
       "2014  Free    0.0       Everyone   Entertainment;Music & Video   \n",
       "2015  Free    0.0       Everyone            Casual;Brain Games   \n",
       "2016  Free    0.0   Everyone 10+  Adventure;Action & Adventure   \n",
       "2017  Free    0.0       Everyone            Casual;Brain Games   \n",
       "2018  Free    0.0       Everyone        Educational;Creativity   \n",
       "\n",
       "        Last Updated   Current Ver   Android Ver  \n",
       "2014  August 3, 2018        3.43.3    4.1 and up  \n",
       "2015    July 4, 2018      2.9.3181  4.0.3 and up  \n",
       "2016   July 31, 2018  2.347.225742    4.1 and up  \n",
       "2017   July 23, 2018      1.9.3901  4.0.3 and up  \n",
       "2018   July 17, 2018          1.49  4.0.3 and up  "
      ]
     },
     "execution_count": 65,
     "metadata": {},
     "output_type": "execute_result"
    }
   ],
   "source": [
    "Family.head(5)"
   ]
  },
  {
   "cell_type": "code",
   "execution_count": 66,
   "metadata": {},
   "outputs": [],
   "source": [
    "Top_Family=Family[Family.Installs>10e6].sort_values('Rating',ascending=False)"
   ]
  },
  {
   "cell_type": "code",
   "execution_count": 67,
   "metadata": {},
   "outputs": [
    {
     "data": {
      "text/html": [
       "<div>\n",
       "<style scoped>\n",
       "    .dataframe tbody tr th:only-of-type {\n",
       "        vertical-align: middle;\n",
       "    }\n",
       "\n",
       "    .dataframe tbody tr th {\n",
       "        vertical-align: top;\n",
       "    }\n",
       "\n",
       "    .dataframe thead th {\n",
       "        text-align: right;\n",
       "    }\n",
       "</style>\n",
       "<table border=\"1\" class=\"dataframe\">\n",
       "  <thead>\n",
       "    <tr style=\"text-align: right;\">\n",
       "      <th></th>\n",
       "      <th>App</th>\n",
       "      <th>Category</th>\n",
       "      <th>Rating</th>\n",
       "      <th>Reviews</th>\n",
       "      <th>Size</th>\n",
       "      <th>Installs</th>\n",
       "      <th>Type</th>\n",
       "      <th>Price</th>\n",
       "      <th>Content Rating</th>\n",
       "      <th>Genres</th>\n",
       "      <th>Last Updated</th>\n",
       "      <th>Current Ver</th>\n",
       "      <th>Android Ver</th>\n",
       "    </tr>\n",
       "  </thead>\n",
       "  <tbody>\n",
       "    <tr>\n",
       "      <th>8439</th>\n",
       "      <td>Duolingo: Learn Languages Free</td>\n",
       "      <td>FAMILY</td>\n",
       "      <td>4.7</td>\n",
       "      <td>6297590</td>\n",
       "      <td>NaN</td>\n",
       "      <td>100000000</td>\n",
       "      <td>Free</td>\n",
       "      <td>0.0</td>\n",
       "      <td>Everyone</td>\n",
       "      <td>Education;Education</td>\n",
       "      <td>August 6, 2018</td>\n",
       "      <td>Varies with device</td>\n",
       "      <td>Varies with device</td>\n",
       "    </tr>\n",
       "    <tr>\n",
       "      <th>2216</th>\n",
       "      <td>Duolingo: Learn Languages Free</td>\n",
       "      <td>FAMILY</td>\n",
       "      <td>4.7</td>\n",
       "      <td>6294397</td>\n",
       "      <td>NaN</td>\n",
       "      <td>100000000</td>\n",
       "      <td>Free</td>\n",
       "      <td>0.0</td>\n",
       "      <td>Everyone</td>\n",
       "      <td>Education;Education</td>\n",
       "      <td>August 1, 2018</td>\n",
       "      <td>Varies with device</td>\n",
       "      <td>Varies with device</td>\n",
       "    </tr>\n",
       "    <tr>\n",
       "      <th>2056</th>\n",
       "      <td>Duolingo: Learn Languages Free</td>\n",
       "      <td>FAMILY</td>\n",
       "      <td>4.7</td>\n",
       "      <td>6294400</td>\n",
       "      <td>NaN</td>\n",
       "      <td>100000000</td>\n",
       "      <td>Free</td>\n",
       "      <td>0.0</td>\n",
       "      <td>Everyone</td>\n",
       "      <td>Education;Education</td>\n",
       "      <td>August 1, 2018</td>\n",
       "      <td>Varies with device</td>\n",
       "      <td>Varies with device</td>\n",
       "    </tr>\n",
       "    <tr>\n",
       "      <th>7501</th>\n",
       "      <td>Castle Clash: Heroes of the Empire US</td>\n",
       "      <td>FAMILY</td>\n",
       "      <td>4.6</td>\n",
       "      <td>4578890</td>\n",
       "      <td>24.0</td>\n",
       "      <td>50000000</td>\n",
       "      <td>Free</td>\n",
       "      <td>0.0</td>\n",
       "      <td>Everyone 10+</td>\n",
       "      <td>Strategy</td>\n",
       "      <td>July 17, 2018</td>\n",
       "      <td>1.4.51</td>\n",
       "      <td>4.1 and up</td>\n",
       "    </tr>\n",
       "    <tr>\n",
       "      <th>3986</th>\n",
       "      <td>Clash of Clans</td>\n",
       "      <td>FAMILY</td>\n",
       "      <td>4.6</td>\n",
       "      <td>44881447</td>\n",
       "      <td>98.0</td>\n",
       "      <td>100000000</td>\n",
       "      <td>Free</td>\n",
       "      <td>0.0</td>\n",
       "      <td>Everyone 10+</td>\n",
       "      <td>Strategy</td>\n",
       "      <td>July 15, 2018</td>\n",
       "      <td>10.322.16</td>\n",
       "      <td>4.1 and up</td>\n",
       "    </tr>\n",
       "    <tr>\n",
       "      <th>...</th>\n",
       "      <td>...</td>\n",
       "      <td>...</td>\n",
       "      <td>...</td>\n",
       "      <td>...</td>\n",
       "      <td>...</td>\n",
       "      <td>...</td>\n",
       "      <td>...</td>\n",
       "      <td>...</td>\n",
       "      <td>...</td>\n",
       "      <td>...</td>\n",
       "      <td>...</td>\n",
       "      <td>...</td>\n",
       "      <td>...</td>\n",
       "    </tr>\n",
       "    <tr>\n",
       "      <th>10513</th>\n",
       "      <td>Flight Simulator: Fly Plane 3D</td>\n",
       "      <td>FAMILY</td>\n",
       "      <td>4.0</td>\n",
       "      <td>660613</td>\n",
       "      <td>21.0</td>\n",
       "      <td>50000000</td>\n",
       "      <td>Free</td>\n",
       "      <td>0.0</td>\n",
       "      <td>Everyone</td>\n",
       "      <td>Simulation</td>\n",
       "      <td>March 1, 2017</td>\n",
       "      <td>1.32</td>\n",
       "      <td>2.3 and up</td>\n",
       "    </tr>\n",
       "    <tr>\n",
       "      <th>10010</th>\n",
       "      <td>Mobile Strike</td>\n",
       "      <td>FAMILY</td>\n",
       "      <td>3.9</td>\n",
       "      <td>903392</td>\n",
       "      <td>NaN</td>\n",
       "      <td>50000000</td>\n",
       "      <td>Free</td>\n",
       "      <td>0.0</td>\n",
       "      <td>Everyone 10+</td>\n",
       "      <td>Strategy</td>\n",
       "      <td>June 14, 2018</td>\n",
       "      <td>3.30.4.207</td>\n",
       "      <td>4.1 and up</td>\n",
       "    </tr>\n",
       "    <tr>\n",
       "      <th>6070</th>\n",
       "      <td>Hair Salon - Fun Games</td>\n",
       "      <td>FAMILY</td>\n",
       "      <td>3.8</td>\n",
       "      <td>484226</td>\n",
       "      <td>27.0</td>\n",
       "      <td>50000000</td>\n",
       "      <td>Free</td>\n",
       "      <td>0.0</td>\n",
       "      <td>Teen</td>\n",
       "      <td>Casual</td>\n",
       "      <td>June 15, 2018</td>\n",
       "      <td>3.0.10</td>\n",
       "      <td>4.0 and up</td>\n",
       "    </tr>\n",
       "    <tr>\n",
       "      <th>10196</th>\n",
       "      <td>Fart sound pranks</td>\n",
       "      <td>FAMILY</td>\n",
       "      <td>3.8</td>\n",
       "      <td>283823</td>\n",
       "      <td>NaN</td>\n",
       "      <td>50000000</td>\n",
       "      <td>Free</td>\n",
       "      <td>0.0</td>\n",
       "      <td>Everyone 10+</td>\n",
       "      <td>Casual</td>\n",
       "      <td>November 23, 2016</td>\n",
       "      <td>Varies with device</td>\n",
       "      <td>Varies with device</td>\n",
       "    </tr>\n",
       "    <tr>\n",
       "      <th>3901</th>\n",
       "      <td>Photo Warp</td>\n",
       "      <td>FAMILY</td>\n",
       "      <td>3.7</td>\n",
       "      <td>353342</td>\n",
       "      <td>13.0</td>\n",
       "      <td>50000000</td>\n",
       "      <td>Free</td>\n",
       "      <td>0.0</td>\n",
       "      <td>Everyone</td>\n",
       "      <td>Entertainment</td>\n",
       "      <td>November 24, 2017</td>\n",
       "      <td>2.0.7</td>\n",
       "      <td>4.0 and up</td>\n",
       "    </tr>\n",
       "  </tbody>\n",
       "</table>\n",
       "<p>75 rows × 13 columns</p>\n",
       "</div>"
      ],
      "text/plain": [
       "                                         App Category  Rating   Reviews  Size  \\\n",
       "8439          Duolingo: Learn Languages Free   FAMILY     4.7   6297590   NaN   \n",
       "2216          Duolingo: Learn Languages Free   FAMILY     4.7   6294397   NaN   \n",
       "2056          Duolingo: Learn Languages Free   FAMILY     4.7   6294400   NaN   \n",
       "7501   Castle Clash: Heroes of the Empire US   FAMILY     4.6   4578890  24.0   \n",
       "3986                          Clash of Clans   FAMILY     4.6  44881447  98.0   \n",
       "...                                      ...      ...     ...       ...   ...   \n",
       "10513         Flight Simulator: Fly Plane 3D   FAMILY     4.0    660613  21.0   \n",
       "10010                          Mobile Strike   FAMILY     3.9    903392   NaN   \n",
       "6070                  Hair Salon - Fun Games   FAMILY     3.8    484226  27.0   \n",
       "10196                      Fart sound pranks   FAMILY     3.8    283823   NaN   \n",
       "3901                              Photo Warp   FAMILY     3.7    353342  13.0   \n",
       "\n",
       "        Installs  Type  Price Content Rating               Genres  \\\n",
       "8439   100000000  Free    0.0       Everyone  Education;Education   \n",
       "2216   100000000  Free    0.0       Everyone  Education;Education   \n",
       "2056   100000000  Free    0.0       Everyone  Education;Education   \n",
       "7501    50000000  Free    0.0   Everyone 10+             Strategy   \n",
       "3986   100000000  Free    0.0   Everyone 10+             Strategy   \n",
       "...          ...   ...    ...            ...                  ...   \n",
       "10513   50000000  Free    0.0       Everyone           Simulation   \n",
       "10010   50000000  Free    0.0   Everyone 10+             Strategy   \n",
       "6070    50000000  Free    0.0           Teen               Casual   \n",
       "10196   50000000  Free    0.0   Everyone 10+               Casual   \n",
       "3901    50000000  Free    0.0       Everyone        Entertainment   \n",
       "\n",
       "            Last Updated         Current Ver         Android Ver  \n",
       "8439      August 6, 2018  Varies with device  Varies with device  \n",
       "2216      August 1, 2018  Varies with device  Varies with device  \n",
       "2056      August 1, 2018  Varies with device  Varies with device  \n",
       "7501       July 17, 2018              1.4.51          4.1 and up  \n",
       "3986       July 15, 2018           10.322.16          4.1 and up  \n",
       "...                  ...                 ...                 ...  \n",
       "10513      March 1, 2017                1.32          2.3 and up  \n",
       "10010      June 14, 2018          3.30.4.207          4.1 and up  \n",
       "6070       June 15, 2018              3.0.10          4.0 and up  \n",
       "10196  November 23, 2016  Varies with device  Varies with device  \n",
       "3901   November 24, 2017               2.0.7          4.0 and up  \n",
       "\n",
       "[75 rows x 13 columns]"
      ]
     },
     "execution_count": 67,
     "metadata": {},
     "output_type": "execute_result"
    }
   ],
   "source": [
    "Top_Family"
   ]
  },
  {
   "cell_type": "markdown",
   "metadata": {},
   "source": [
    "We can notice here \"Candy Crush Saga\", \"Clash of Clans\" , \"Pou\" etc which are basiclly gaming category but it is Categorized in Family as well. So Family Apps include some light weight games as well.\n",
    "\n",
    "The list is topped by \t\"Duolingo: Learn Languages Free\",  so we can conclude that `\"Duolingo\"` the most popular and good rated app.\n",
    "People are slightly more interested in learning new languages. Which would help them as tourist, student or as an employee in foreign countries."
   ]
  },
  {
   "cell_type": "code",
   "execution_count": 68,
   "metadata": {},
   "outputs": [],
   "source": [
    "Entertainment=dif_cat.get_group('ENTERTAINMENT')"
   ]
  },
  {
   "cell_type": "code",
   "execution_count": 69,
   "metadata": {},
   "outputs": [
    {
     "data": {
      "text/html": [
       "<div>\n",
       "<style scoped>\n",
       "    .dataframe tbody tr th:only-of-type {\n",
       "        vertical-align: middle;\n",
       "    }\n",
       "\n",
       "    .dataframe tbody tr th {\n",
       "        vertical-align: top;\n",
       "    }\n",
       "\n",
       "    .dataframe thead th {\n",
       "        text-align: right;\n",
       "    }\n",
       "</style>\n",
       "<table border=\"1\" class=\"dataframe\">\n",
       "  <thead>\n",
       "    <tr style=\"text-align: right;\">\n",
       "      <th></th>\n",
       "      <th>App</th>\n",
       "      <th>Category</th>\n",
       "      <th>Rating</th>\n",
       "      <th>Reviews</th>\n",
       "      <th>Size</th>\n",
       "      <th>Installs</th>\n",
       "      <th>Type</th>\n",
       "      <th>Price</th>\n",
       "      <th>Content Rating</th>\n",
       "      <th>Genres</th>\n",
       "      <th>Last Updated</th>\n",
       "      <th>Current Ver</th>\n",
       "      <th>Android Ver</th>\n",
       "    </tr>\n",
       "  </thead>\n",
       "  <tbody>\n",
       "    <tr>\n",
       "      <th>865</th>\n",
       "      <td>Google Play Games</td>\n",
       "      <td>ENTERTAINMENT</td>\n",
       "      <td>4.3</td>\n",
       "      <td>7165362</td>\n",
       "      <td>NaN</td>\n",
       "      <td>1000000000</td>\n",
       "      <td>Free</td>\n",
       "      <td>0.0</td>\n",
       "      <td>Teen</td>\n",
       "      <td>Entertainment</td>\n",
       "      <td>July 16, 2018</td>\n",
       "      <td>Varies with device</td>\n",
       "      <td>Varies with device</td>\n",
       "    </tr>\n",
       "    <tr>\n",
       "      <th>855</th>\n",
       "      <td>Netflix</td>\n",
       "      <td>ENTERTAINMENT</td>\n",
       "      <td>4.4</td>\n",
       "      <td>5456208</td>\n",
       "      <td>NaN</td>\n",
       "      <td>100000000</td>\n",
       "      <td>Free</td>\n",
       "      <td>0.0</td>\n",
       "      <td>Teen</td>\n",
       "      <td>Entertainment</td>\n",
       "      <td>July 31, 2018</td>\n",
       "      <td>Varies with device</td>\n",
       "      <td>Varies with device</td>\n",
       "    </tr>\n",
       "    <tr>\n",
       "      <th>874</th>\n",
       "      <td>Talking Angela</td>\n",
       "      <td>ENTERTAINMENT</td>\n",
       "      <td>3.7</td>\n",
       "      <td>1828284</td>\n",
       "      <td>52.0</td>\n",
       "      <td>100000000</td>\n",
       "      <td>Free</td>\n",
       "      <td>0.0</td>\n",
       "      <td>Everyone</td>\n",
       "      <td>Entertainment</td>\n",
       "      <td>July 12, 2018</td>\n",
       "      <td>2.8.2</td>\n",
       "      <td>4.1 and up</td>\n",
       "    </tr>\n",
       "    <tr>\n",
       "      <th>893</th>\n",
       "      <td>Talking Ben the Dog</td>\n",
       "      <td>ENTERTAINMENT</td>\n",
       "      <td>4.3</td>\n",
       "      <td>1633682</td>\n",
       "      <td>57.0</td>\n",
       "      <td>100000000</td>\n",
       "      <td>Free</td>\n",
       "      <td>0.0</td>\n",
       "      <td>Everyone</td>\n",
       "      <td>Entertainment</td>\n",
       "      <td>July 3, 2018</td>\n",
       "      <td>3.5.2.2</td>\n",
       "      <td>4.1 and up</td>\n",
       "    </tr>\n",
       "    <tr>\n",
       "      <th>931</th>\n",
       "      <td>Netflix</td>\n",
       "      <td>ENTERTAINMENT</td>\n",
       "      <td>4.4</td>\n",
       "      <td>5456599</td>\n",
       "      <td>NaN</td>\n",
       "      <td>100000000</td>\n",
       "      <td>Free</td>\n",
       "      <td>0.0</td>\n",
       "      <td>Teen</td>\n",
       "      <td>Entertainment</td>\n",
       "      <td>July 31, 2018</td>\n",
       "      <td>Varies with device</td>\n",
       "      <td>Varies with device</td>\n",
       "    </tr>\n",
       "  </tbody>\n",
       "</table>\n",
       "</div>"
      ],
      "text/plain": [
       "                     App       Category  Rating  Reviews  Size    Installs  \\\n",
       "865    Google Play Games  ENTERTAINMENT     4.3  7165362   NaN  1000000000   \n",
       "855              Netflix  ENTERTAINMENT     4.4  5456208   NaN   100000000   \n",
       "874       Talking Angela  ENTERTAINMENT     3.7  1828284  52.0   100000000   \n",
       "893  Talking Ben the Dog  ENTERTAINMENT     4.3  1633682  57.0   100000000   \n",
       "931              Netflix  ENTERTAINMENT     4.4  5456599   NaN   100000000   \n",
       "\n",
       "     Type  Price Content Rating         Genres   Last Updated  \\\n",
       "865  Free    0.0           Teen  Entertainment  July 16, 2018   \n",
       "855  Free    0.0           Teen  Entertainment  July 31, 2018   \n",
       "874  Free    0.0       Everyone  Entertainment  July 12, 2018   \n",
       "893  Free    0.0       Everyone  Entertainment   July 3, 2018   \n",
       "931  Free    0.0           Teen  Entertainment  July 31, 2018   \n",
       "\n",
       "            Current Ver         Android Ver  \n",
       "865  Varies with device  Varies with device  \n",
       "855  Varies with device  Varies with device  \n",
       "874               2.8.2          4.1 and up  \n",
       "893             3.5.2.2          4.1 and up  \n",
       "931  Varies with device  Varies with device  "
      ]
     },
     "execution_count": 69,
     "metadata": {},
     "output_type": "execute_result"
    }
   ],
   "source": [
    "Entertainment.sort_values('Installs',ascending=False).head(5)"
   ]
  },
  {
   "cell_type": "markdown",
   "metadata": {},
   "source": [
    "### Which are the Social Category Apps has highest installs?"
   ]
  },
  {
   "cell_type": "code",
   "execution_count": 70,
   "metadata": {},
   "outputs": [],
   "source": [
    "Social=dif_cat.get_group('SOCIAL')"
   ]
  },
  {
   "cell_type": "code",
   "execution_count": 71,
   "metadata": {},
   "outputs": [],
   "source": [
    "Top_social = Social.sort_values('Installs',ascending=False)"
   ]
  },
  {
   "cell_type": "code",
   "execution_count": 72,
   "metadata": {},
   "outputs": [],
   "source": [
    "TS=Top_social.drop_duplicates(subset='App').head(15)"
   ]
  },
  {
   "cell_type": "code",
   "execution_count": 73,
   "metadata": {},
   "outputs": [
    {
     "data": {
      "image/png": "[encoded data removed]",
      "text/plain": [
       "<Figure size 1080x576 with 1 Axes>"
      ]
     },
     "metadata": {},
     "output_type": "display_data"
    }
   ],
   "source": [
    "plt.figure(figsize=(15,8))\n",
    "sns.set(style=\"darkgrid\")\n",
    "sns.barplot(x = 'App', y = 'Installs', data = TS)\n",
    "plt.xticks(rotation=90);"
   ]
  },
  {
   "cell_type": "markdown",
   "metadata": {},
   "source": [
    "From the graph it is evedent that `Facebook`, `Instagram`,`Google+` are the top 3 installed apps wih highest number of users."
   ]
  },
  {
   "cell_type": "markdown",
   "metadata": {},
   "source": [
    "### Which Category has Expensive Apps for the Customer?"
   ]
  },
  {
   "cell_type": "code",
   "execution_count": 74,
   "metadata": {},
   "outputs": [
    {
     "data": {
      "text/plain": [
       "Category\n",
       "ART_AND_DESIGN            5.97\n",
       "AUTO_AND_VEHICLES         1.99\n",
       "BEAUTY                    0.00\n",
       "BOOKS_AND_REFERENCE      23.88\n",
       "BUSINESS                 74.39\n",
       "COMICS                    0.00\n",
       "COMMUNICATION            56.69\n",
       "DATING                   22.96\n",
       "EDUCATION                17.96\n",
       "ENTERTAINMENT             7.98\n",
       "EVENTS                    0.00\n",
       "FAMILY                 2296.74\n",
       "FINANCE                2439.87\n",
       "FOOD_AND_DRINK            8.48\n",
       "GAME                    280.36\n",
       "HEALTH_AND_FITNESS       45.38\n",
       "HOUSE_AND_HOME            0.00\n",
       "LIBRARIES_AND_DEMO        0.00\n",
       "LIFESTYLE              1960.88\n",
       "MAPS_AND_NAVIGATION      26.95\n",
       "MEDICAL                1043.14\n",
       "NEWS_AND_MAGAZINES        3.98\n",
       "PARENTING                 9.58\n",
       "PERSONALIZATION         127.76\n",
       "PHOTOGRAPHY              88.24\n",
       "PRODUCTIVITY             70.92\n",
       "SHOPPING                  5.48\n",
       "SOCIAL                    1.98\n",
       "SPORTS                   93.21\n",
       "TOOLS                   207.90\n",
       "TRAVEL_AND_LOCAL         37.49\n",
       "VIDEO_PLAYERS            10.46\n",
       "WEATHER                  29.43\n",
       "Name: Price, dtype: float64"
      ]
     },
     "execution_count": 74,
     "metadata": {},
     "output_type": "execute_result"
    }
   ],
   "source": [
    "dif_cat.Price.sum()"
   ]
  },
  {
   "cell_type": "code",
   "execution_count": 75,
   "metadata": {},
   "outputs": [
    {
     "data": {
      "image/png": "[encoded data removed]",
      "text/plain": [
       "<Figure size 1080x1080 with 1 Axes>"
      ]
     },
     "metadata": {},
     "output_type": "display_data"
    }
   ],
   "source": [
    "plt.figure(figsize=(15,15))\n",
    "Prices = dif_cat.Price.sum().plot(kind = 'barh')"
   ]
  },
  {
   "cell_type": "markdown",
   "metadata": {},
   "source": [
    "From the above graph it is clearly visible that `FINANCE` Category is expensive than others, Follwed by `FAMILY`, `LIFESTYLE` and `MIDICAL` has quite decent pricing. \n",
    "Also we can notice there are few Categories where most them have free Apps, such as `SOCIAL`, `COMICS`,`BEAUTY` etc."
   ]
  },
  {
   "cell_type": "code",
   "execution_count": 76,
   "metadata": {},
   "outputs": [],
   "source": [
    "import jovian"
   ]
  },
  {
   "cell_type": "code",
   "execution_count": 77,
   "metadata": {},
   "outputs": [
    {
     "data": {
      "application/javascript": [
       "window.require && require([\"base/js/namespace\"],function(Jupyter){Jupyter.notebook.save_checkpoint()})"
      ],
      "text/plain": [
       "<IPython.core.display.Javascript object>"
      ]
     },
     "metadata": {},
     "output_type": "display_data"
    },
    {
     "name": "stdout",
     "output_type": "stream",
     "text": [
      "[jovian] Attempting to save notebook..\n",
      "[jovian] Updating notebook \"nishanth-k-s/google-appstore-analysis\" on https://jovian.ml/\n",
      "[jovian] Uploading notebook..\n",
      "[jovian] Capturing environment..\n",
      "[jovian] Committed successfully! https://jovian.ml/nishanth-k-s/google-appstore-analysis\n"
     ]
    },
    {
     "data": {
      "text/plain": [
       "'https://jovian.ml/nishanth-k-s/google-appstore-analysis'"
      ]
     },
     "execution_count": 77,
     "metadata": {},
     "output_type": "execute_result"
    }
   ],
   "source": [
    "jovian.commit()"
   ]
  },
  {
   "cell_type": "markdown",
   "metadata": {},
   "source": [
    "## Inferences and Conclusion"
   ]
  },
  {
   "cell_type": "markdown",
   "metadata": {},
   "source": [
    "This NoteBook contains some basic anaysis, some of the Inferences from the analysis are listed below:\n",
    "* The Average Rating of the App is 4.2, which is decent.\n",
    "* Family Category has Highest number of Apps.\n",
    "* Finance, Medical and Family apps are the most expensive in the Google store.\n",
    "* Users tend to download a given app more if it has been reviewed by a large number of people.\n",
    "* Social Media Apps have High number of installation and Active user."
   ]
  },
  {
   "cell_type": "markdown",
   "metadata": {},
   "source": [
    "The dataset contains immense possibilities to improve business values and have a positive impact. It is not limited to the problem taken into consideration for this project. Many other interesting possibilities can be explored using this dataset."
   ]
  },
  {
   "cell_type": "code",
   "execution_count": 78,
   "metadata": {},
   "outputs": [],
   "source": [
    "import jovian"
   ]
  },
  {
   "cell_type": "code",
   "execution_count": 79,
   "metadata": {},
   "outputs": [
    {
     "data": {
      "application/javascript": [
       "window.require && require([\"base/js/namespace\"],function(Jupyter){Jupyter.notebook.save_checkpoint()})"
      ],
      "text/plain": [
       "<IPython.core.display.Javascript object>"
      ]
     },
     "metadata": {},
     "output_type": "display_data"
    },
    {
     "name": "stdout",
     "output_type": "stream",
     "text": [
      "[jovian] Attempting to save notebook..\n",
      "[jovian] Updating notebook \"nishanth-k-s/google-appstore-analysis\" on https://jovian.ml/\n",
      "[jovian] Uploading notebook..\n",
      "[jovian] Capturing environment..\n",
      "[jovian] Committed successfully! https://jovian.ml/nishanth-k-s/google-appstore-analysis\n"
     ]
    },
    {
     "data": {
      "text/plain": [
       "'https://jovian.ml/nishanth-k-s/google-appstore-analysis'"
      ]
     },
     "execution_count": 79,
     "metadata": {},
     "output_type": "execute_result"
    }
   ],
   "source": [
    "jovian.commit()"
   ]
  },
  {
   "cell_type": "markdown",
   "metadata": {},
   "source": [
    "## References and Future Work\n",
    "\n",
    "* Prediction of the number of reviews and installs by using the regression model.\n",
    "* Identifying the categories and stats of the most installed apps.\n",
    "* Exploring the correlation between the size of the app, the version of Android, etc on the number of installs.\n",
    "* The ways in which questions can be asked varies, so does the way of tackling a problem. Only the one that has been minutely observed and tested will provide results worth trusting.\n",
    "\n",
    "* You can find the Kaggle Dataset [here](https://www.kaggle.com/lava18/google-play-store-apps)\n",
    "* [Numpy_Documentation](https://numpy.org/doc/stable/user/quickstart.html)\n",
    "* [Pandas_Documentation](https://pandas.pydata.org/docs/user_guide/index.html#user-guide)\n",
    "* [Seaborn_Documentation](https://seaborn.pydata.org/)\n",
    "* [Matplatlib_Documentation](https://matplotlib.org/3.1.1/api/_as_gen/matplotlib.pyplot.html)"
   ]
  },
  {
   "cell_type": "code",
   "execution_count": 80,
   "metadata": {},
   "outputs": [],
   "source": [
    "import jovian"
   ]
  },
  {
   "cell_type": "code",
   "execution_count": 81,
   "metadata": {},
   "outputs": [
    {
     "data": {
      "application/javascript": [
       "window.require && require([\"base/js/namespace\"],function(Jupyter){Jupyter.notebook.save_checkpoint()})"
      ],
      "text/plain": [
       "<IPython.core.display.Javascript object>"
      ]
     },
     "metadata": {},
     "output_type": "display_data"
    },
    {
     "name": "stdout",
     "output_type": "stream",
     "text": [
      "[jovian] Attempting to save notebook..\n",
      "[jovian] Updating notebook \"nishanth-k-s/google-appstore-analysis\" on https://jovian.ml/\n",
      "[jovian] Uploading notebook..\n",
      "[jovian] Capturing environment..\n",
      "[jovian] Committed successfully! https://jovian.ml/nishanth-k-s/google-appstore-analysis\n"
     ]
    },
    {
     "data": {
      "text/plain": [
       "'https://jovian.ml/nishanth-k-s/google-appstore-analysis'"
      ]
     },
     "execution_count": 81,
     "metadata": {},
     "output_type": "execute_result"
    }
   ],
   "source": [
    "jovian.commit()"
   ]
  },
  {
   "cell_type": "code",
   "execution_count": null,
   "metadata": {},
   "outputs": [],
   "source": []
  }
 ],
 "metadata": {
  "kernelspec": {
   "display_name": "Python 3",
   "language": "python",
   "name": "python3"
  },
  "language_info": {
   "codemirror_mode": {
    "name": "ipython",
    "version": 3
   },
   "file_extension": ".py",
   "mimetype": "text/x-python",
   "name": "python",
   "nbconvert_exporter": "python",
   "pygments_lexer": "ipython3",
   "version": "3.7.6"
  }
 },
 "nbformat": 4,
 "nbformat_minor": 4
}
